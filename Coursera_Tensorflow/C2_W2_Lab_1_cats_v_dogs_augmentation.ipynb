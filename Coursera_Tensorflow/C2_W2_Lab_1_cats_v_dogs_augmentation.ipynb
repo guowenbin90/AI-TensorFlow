{
  "cells": [
    {
      "cell_type": "markdown",
      "metadata": {
        "id": "view-in-github",
        "colab_type": "text"
      },
      "source": [
        "<a href=\"https://colab.research.google.com/github/guowenbin90/AI-TensorFlow/blob/main/Coursera_Tensorflow/%20Copy_of_C2_W2_Lab_1_cats_v_dogs_augmentation.ipynb\" target=\"_parent\"><img src=\"https://colab.research.google.com/assets/colab-badge.svg\" alt=\"Open In Colab\"/></a>"
      ]
    },
    {
      "cell_type": "markdown",
      "metadata": {
        "id": "CcyWAw8Y9uyl"
      },
      "source": [
        "<a href=\"https://colab.research.google.com/github/https-deeplearning-ai/tensorflow-1-public/blob/master/C2/W2/ungraded_labs/C2_W2_Lab_1_cats_v_dogs_augmentation.ipynb\" target=\"_parent\"><img src=\"https://colab.research.google.com/assets/colab-badge.svg\" alt=\"Open In Colab\"/></a>"
      ]
    },
    {
      "cell_type": "markdown",
      "metadata": {
        "id": "gGxCD4mGHHjG"
      },
      "source": [
        "# Ungraded Lab: Data Augmentation\n",
        "\n",
        "In the previous lessons, you saw that having a high training accuracy does not automatically mean having a good predictive model. It can still perform poorly on new data because it has overfit to the training set. In this lab, you will see how to avoid that using _data augmentation_. This increases the amount of training data by modifying the existing training data's properties. For example, in image data, you can apply different preprocessing techniques such as rotate, flip, shear, or zoom on your existing images so you can simulate other data that the model should also learn from. This way, the model would see more variety in the images during training so it will infer better on new, previously unseen data.\n",
        "\n",
        "Let's see how you can do this in the following sections."
      ]
    },
    {
      "cell_type": "markdown",
      "metadata": {
        "id": "kJJqX4DxcQs8"
      },
      "source": [
        "## Baseline Performance\n",
        "\n",
        "You will start with a model that's very effective at learning `Cats vs Dogs` without data augmentation. It's similar to the previous models that you have used. Note that there are four convolutional layers with 32, 64, 128 and 128 convolutions respectively. The code is basically the same from the previous lab so we won't go over the details step by step since you've already seen it before.\n",
        "\n",
        "You will train only for 20 epochs to save time but feel free to increase this if you want."
      ]
    },
    {
      "cell_type": "code",
      "execution_count": 1,
      "metadata": {
        "id": "zJZIF29-dIRv",
        "colab": {
          "base_uri": "https://localhost:8080/"
        },
        "outputId": "85231b3d-ff0c-4104-fcf0-13869aadecfd"
      },
      "outputs": [
        {
          "output_type": "stream",
          "name": "stdout",
          "text": [
            "--2022-06-16 20:03:28--  https://storage.googleapis.com/tensorflow-1-public/course2/cats_and_dogs_filtered.zip\n",
            "Resolving storage.googleapis.com (storage.googleapis.com)... 172.217.194.128, 142.250.4.128, 74.125.24.128, ...\n",
            "Connecting to storage.googleapis.com (storage.googleapis.com)|172.217.194.128|:443... connected.\n",
            "HTTP request sent, awaiting response... 200 OK\n",
            "Length: 68606236 (65M) [application/zip]\n",
            "Saving to: ‘cats_and_dogs_filtered.zip’\n",
            "\n",
            "cats_and_dogs_filte 100%[===================>]  65.43M  61.7MB/s    in 1.1s    \n",
            "\n",
            "2022-06-16 20:03:30 (61.7 MB/s) - ‘cats_and_dogs_filtered.zip’ saved [68606236/68606236]\n",
            "\n"
          ]
        }
      ],
      "source": [
        "# Download the dataset\n",
        "!wget https://storage.googleapis.com/tensorflow-1-public/course2/cats_and_dogs_filtered.zip"
      ]
    },
    {
      "cell_type": "code",
      "execution_count": 2,
      "metadata": {
        "id": "_DyUfCTgdwa8"
      },
      "outputs": [],
      "source": [
        "import os\n",
        "import zipfile\n",
        "\n",
        "# Extract the archive\n",
        "zip_ref = zipfile.ZipFile(\"./cats_and_dogs_filtered.zip\", 'r')\n",
        "zip_ref.extractall(\"tmp/\")\n",
        "zip_ref.close()\n",
        "\n",
        "# Assign training and validation set directories\n",
        "base_dir = 'tmp/cats_and_dogs_filtered'\n",
        "train_dir = os.path.join(base_dir, 'train')\n",
        "validation_dir = os.path.join(base_dir, 'validation')\n",
        "\n",
        "# Directory with training cat pictures\n",
        "train_cats_dir = os.path.join(train_dir, 'cats')\n",
        "\n",
        "# Directory with training dog pictures\n",
        "train_dogs_dir = os.path.join(train_dir, 'dogs')\n",
        "\n",
        "# Directory with validation cat pictures\n",
        "validation_cats_dir = os.path.join(validation_dir, 'cats')\n",
        "\n",
        "# Directory with validation dog pictures\n",
        "validation_dogs_dir = os.path.join(validation_dir, 'dogs')"
      ]
    },
    {
      "cell_type": "code",
      "source": [
        ""
      ],
      "metadata": {
        "id": "dJ0vK6e3_88g"
      },
      "execution_count": 2,
      "outputs": []
    },
    {
      "cell_type": "markdown",
      "metadata": {
        "id": "Ub_BdOJIfZ_Q"
      },
      "source": [
        "You will place the model creation inside a function so you can easily initialize a new one when you use data augmentation later in this notebook."
      ]
    },
    {
      "cell_type": "code",
      "execution_count": 3,
      "metadata": {
        "id": "uWllK_Wad-Mx"
      },
      "outputs": [],
      "source": [
        "import tensorflow as tf\n",
        "from tensorflow.keras.optimizers import RMSprop\n",
        "\n",
        "def create_model():\n",
        "  '''Creates a CNN with 4 convolutional layers'''\n",
        "  model = tf.keras.models.Sequential([\n",
        "      tf.keras.layers.Conv2D(32, (3,3), activation='relu', input_shape=(150, 150, 3)),\n",
        "      tf.keras.layers.MaxPooling2D(2, 2),\n",
        "      tf.keras.layers.Conv2D(64, (3,3), activation='relu'),\n",
        "      tf.keras.layers.MaxPooling2D(2,2),\n",
        "      tf.keras.layers.Conv2D(128, (3,3), activation='relu'),\n",
        "      tf.keras.layers.MaxPooling2D(2,2),\n",
        "      tf.keras.layers.Conv2D(128, (3,3), activation='relu'),\n",
        "      tf.keras.layers.MaxPooling2D(2,2),\n",
        "      tf.keras.layers.Flatten(),\n",
        "      tf.keras.layers.Dense(512, activation='relu'),\n",
        "      tf.keras.layers.Dense(1, activation='sigmoid')\n",
        "  ])\n",
        "\n",
        "  model.compile(loss='binary_crossentropy',\n",
        "                optimizer=RMSprop(learning_rate=1e-4),\n",
        "                metrics=['accuracy'])\n",
        "  \n",
        "  return model"
      ]
    },
    {
      "cell_type": "code",
      "execution_count": 4,
      "metadata": {
        "id": "MJPyDEzOqrKB",
        "colab": {
          "base_uri": "https://localhost:8080/"
        },
        "outputId": "836bd550-909c-4933-b475-1294eba6c8a3"
      },
      "outputs": [
        {
          "output_type": "stream",
          "name": "stdout",
          "text": [
            "Found 2000 images belonging to 2 classes.\n",
            "Found 1000 images belonging to 2 classes.\n"
          ]
        }
      ],
      "source": [
        "from tensorflow.keras.preprocessing.image import ImageDataGenerator\n",
        "\n",
        "# All images will be rescaled by 1./255\n",
        "train_datagen = ImageDataGenerator(rescale=1./255)\n",
        "test_datagen = ImageDataGenerator(rescale=1./255)\n",
        "\n",
        "# Flow training images in batches of 20 using train_datagen generator\n",
        "train_generator = train_datagen.flow_from_directory(\n",
        "        train_dir,  # This is the source directory for training images\n",
        "        target_size=(150, 150),  # All images will be resized to 150x150\n",
        "        batch_size=20,\n",
        "        # Since we use binary_crossentropy loss, we need binary labels\n",
        "        class_mode='binary')\n",
        "\n",
        "# Flow validation images in batches of 20 using test_datagen generator\n",
        "validation_generator = test_datagen.flow_from_directory(\n",
        "        validation_dir,\n",
        "        target_size=(150, 150),\n",
        "        batch_size=20,\n",
        "        class_mode='binary')"
      ]
    },
    {
      "cell_type": "code",
      "source": [
        "ImageDataGenerator??"
      ],
      "metadata": {
        "id": "wrxqGexAC05K"
      },
      "execution_count": 5,
      "outputs": []
    },
    {
      "cell_type": "code",
      "source": [
        "train_datagen??"
      ],
      "metadata": {
        "id": "wkQbLDf0CqBD"
      },
      "execution_count": 6,
      "outputs": []
    },
    {
      "cell_type": "code",
      "source": [
        "train_generator??"
      ],
      "metadata": {
        "id": "BM8hVhwNCVpu"
      },
      "execution_count": 7,
      "outputs": []
    },
    {
      "cell_type": "code",
      "execution_count": 8,
      "metadata": {
        "id": "hdqUoF44esR3",
        "colab": {
          "base_uri": "https://localhost:8080/"
        },
        "outputId": "d3651bf1-9e3c-4fb7-9459-947392a086c2"
      },
      "outputs": [
        {
          "output_type": "stream",
          "name": "stdout",
          "text": [
            "Epoch 1/20\n",
            "100/100 - 24s - loss: 0.6899 - accuracy: 0.5495 - val_loss: 0.6739 - val_accuracy: 0.6080 - 24s/epoch - 240ms/step\n",
            "Epoch 2/20\n",
            "100/100 - 9s - loss: 0.6650 - accuracy: 0.5995 - val_loss: 0.6474 - val_accuracy: 0.6430 - 9s/epoch - 91ms/step\n",
            "Epoch 3/20\n",
            "100/100 - 9s - loss: 0.6286 - accuracy: 0.6455 - val_loss: 0.6313 - val_accuracy: 0.6670 - 9s/epoch - 92ms/step\n",
            "Epoch 4/20\n",
            "100/100 - 9s - loss: 0.5845 - accuracy: 0.6885 - val_loss: 0.7006 - val_accuracy: 0.5790 - 9s/epoch - 91ms/step\n",
            "Epoch 5/20\n",
            "100/100 - 9s - loss: 0.5491 - accuracy: 0.7175 - val_loss: 0.5731 - val_accuracy: 0.7100 - 9s/epoch - 91ms/step\n",
            "Epoch 6/20\n",
            "100/100 - 10s - loss: 0.5117 - accuracy: 0.7505 - val_loss: 0.5615 - val_accuracy: 0.7090 - 10s/epoch - 100ms/step\n",
            "Epoch 7/20\n",
            "100/100 - 9s - loss: 0.4841 - accuracy: 0.7640 - val_loss: 0.5523 - val_accuracy: 0.7170 - 9s/epoch - 91ms/step\n",
            "Epoch 8/20\n",
            "100/100 - 9s - loss: 0.4598 - accuracy: 0.7785 - val_loss: 0.5470 - val_accuracy: 0.7110 - 9s/epoch - 91ms/step\n",
            "Epoch 9/20\n",
            "100/100 - 11s - loss: 0.4336 - accuracy: 0.7945 - val_loss: 0.5750 - val_accuracy: 0.7270 - 11s/epoch - 113ms/step\n",
            "Epoch 10/20\n",
            "100/100 - 9s - loss: 0.4107 - accuracy: 0.8045 - val_loss: 0.5329 - val_accuracy: 0.7390 - 9s/epoch - 94ms/step\n",
            "Epoch 11/20\n",
            "100/100 - 9s - loss: 0.3790 - accuracy: 0.8350 - val_loss: 0.5515 - val_accuracy: 0.7250 - 9s/epoch - 91ms/step\n",
            "Epoch 12/20\n",
            "100/100 - 9s - loss: 0.3569 - accuracy: 0.8450 - val_loss: 0.5375 - val_accuracy: 0.7390 - 9s/epoch - 91ms/step\n",
            "Epoch 13/20\n",
            "100/100 - 9s - loss: 0.3266 - accuracy: 0.8605 - val_loss: 0.5478 - val_accuracy: 0.7550 - 9s/epoch - 91ms/step\n",
            "Epoch 14/20\n",
            "100/100 - 9s - loss: 0.3028 - accuracy: 0.8670 - val_loss: 0.5323 - val_accuracy: 0.7580 - 9s/epoch - 91ms/step\n",
            "Epoch 15/20\n",
            "100/100 - 9s - loss: 0.2795 - accuracy: 0.8885 - val_loss: 0.5455 - val_accuracy: 0.7530 - 9s/epoch - 91ms/step\n",
            "Epoch 16/20\n",
            "100/100 - 9s - loss: 0.2608 - accuracy: 0.9025 - val_loss: 0.7476 - val_accuracy: 0.6980 - 9s/epoch - 91ms/step\n",
            "Epoch 17/20\n",
            "100/100 - 9s - loss: 0.2370 - accuracy: 0.9160 - val_loss: 0.6503 - val_accuracy: 0.7050 - 9s/epoch - 91ms/step\n",
            "Epoch 18/20\n",
            "100/100 - 10s - loss: 0.2074 - accuracy: 0.9255 - val_loss: 0.7586 - val_accuracy: 0.6890 - 10s/epoch - 99ms/step\n",
            "Epoch 19/20\n",
            "100/100 - 9s - loss: 0.1914 - accuracy: 0.9335 - val_loss: 0.5888 - val_accuracy: 0.7500 - 9s/epoch - 91ms/step\n",
            "Epoch 20/20\n",
            "100/100 - 9s - loss: 0.1680 - accuracy: 0.9395 - val_loss: 0.6533 - val_accuracy: 0.7350 - 9s/epoch - 91ms/step\n"
          ]
        }
      ],
      "source": [
        "# Constant for epochs\n",
        "EPOCHS = 20\n",
        "\n",
        "# Create a new model\n",
        "model = create_model()\n",
        "\n",
        "# Train the model\n",
        "history = model.fit(\n",
        "      train_generator,\n",
        "      steps_per_epoch=100,  # 2000 images = batch_size * steps\n",
        "      epochs=EPOCHS,\n",
        "      validation_data=validation_generator,\n",
        "      validation_steps=50,  # 1000 images = batch_size * steps\n",
        "      verbose=2)"
      ]
    },
    {
      "cell_type": "markdown",
      "metadata": {
        "id": "Y-G0Am4cguNt"
      },
      "source": [
        "You will then visualize the loss and accuracy with respect to the training and validation set. You will again use a convenience function so it can be reused later. This function accepts a [History](https://www.tensorflow.org/api_docs/python/tf/keras/callbacks/History) object which contains the results of the `fit()` method you ran above."
      ]
    },
    {
      "cell_type": "code",
      "source": [
        "history??"
      ],
      "metadata": {
        "id": "XNXQ_1YODD3N"
      },
      "execution_count": 9,
      "outputs": []
    },
    {
      "cell_type": "code",
      "execution_count": 10,
      "metadata": {
        "id": "GZWPcmKWO303"
      },
      "outputs": [],
      "source": [
        "import matplotlib.pyplot as plt\n",
        "\n",
        "def plot_loss_acc(history):\n",
        "  '''Plots the training and validation loss and accuracy from a history object'''\n",
        "  acc = history.history['accuracy']\n",
        "  val_acc = history.history['val_accuracy']\n",
        "  loss = history.history['loss']\n",
        "  val_loss = history.history['val_loss']\n",
        "\n",
        "  epochs = range(len(acc))\n",
        "\n",
        "  plt.plot(epochs, acc, 'r', label='Training accuracy')\n",
        "  plt.plot(epochs, val_acc, 'b', label='Validation accuracy')\n",
        "  plt.title('Training and validation accuracy')\n",
        "\n",
        "  plt.figure()\n",
        "\n",
        "  plt.plot(epochs, loss, 'r', label='Training Loss')\n",
        "  plt.plot(epochs, val_loss, 'b', label='Validation Loss')\n",
        "  plt.title('Training and validation loss')\n",
        "  plt.legend()\n",
        "\n",
        "  plt.show()"
      ]
    },
    {
      "cell_type": "code",
      "execution_count": 11,
      "metadata": {
        "id": "Vojz4NYXiT_f",
        "colab": {
          "base_uri": "https://localhost:8080/",
          "height": 545
        },
        "outputId": "7293f4d7-f377-40fa-8d48-15e40acb6c92"
      },
      "outputs": [
        {
          "output_type": "display_data",
          "data": {
            "text/plain": [
              "<Figure size 432x288 with 1 Axes>"
            ],
            "image/png": "[encoded data removed]"
          },
          "metadata": {
            "needs_background": "light"
          }
        },
        {
          "output_type": "display_data",
          "data": {
            "text/plain": [
              "<Figure size 432x288 with 1 Axes>"
            ],
            "image/png": "[encoded data removed]"
          },
          "metadata": {
            "needs_background": "light"
          }
        }
      ],
      "source": [
        "# Plot training results\n",
        "plot_loss_acc(history)"
      ]
    },
    {
      "cell_type": "markdown",
      "metadata": {
        "id": "zb81GvNov-Tg"
      },
      "source": [
        "From the results above, you'll see the training accuracy is more than 90%, and the validation accuracy is in the 70%-80% range. This is a great example of _overfitting_ -- which in short means that it can do very well with images it has seen before, but not so well with images it hasn't.\n"
      ]
    },
    {
      "cell_type": "markdown",
      "metadata": {
        "id": "5KBz-vFbjLZX"
      },
      "source": [
        "## Data augmentation\n",
        "\n",
        "One simple method to avoid overfitting is to augment the images a bit. If you think about it, most pictures of a cat are very similar -- the ears are at the top, then the eyes, then the mouth etc. Things like the distance between the eyes and ears will always be quite similar too. \n",
        "\n",
        "What if you tweak with the images a bit -- rotate the image, squash it, etc.  That's what image augementation is all about. And there's an API that makes it easy!\n",
        "\n",
        "Take a look at the [ImageDataGenerator](https://www.tensorflow.org/api_docs/python/tf/keras/preprocessing/image/ImageDataGenerator) which you have been using to rescale the image. There are other properties on it that you can use to augment the image. \n",
        "\n",
        "```\n",
        "# Updated to do image augmentation\n",
        "train_datagen = ImageDataGenerator(\n",
        "      rotation_range=40,\n",
        "      width_shift_range=0.2,\n",
        "      height_shift_range=0.2,\n",
        "      shear_range=0.2,\n",
        "      zoom_range=0.2,\n",
        "      horizontal_flip=True,\n",
        "      fill_mode='nearest')\n",
        "```\n",
        "\n",
        "These are just a few of the options available. Let's quickly go over it:\n",
        "\n",
        "* `rotation_range` is a value in degrees (0–180) within which to randomly rotate pictures.\n",
        "* `width_shift` and `height_shift` are ranges (as a fraction of total width or height) within which to randomly translate pictures vertically or horizontally.\n",
        "* `shear_range` is for randomly applying shearing transformations.\n",
        "* `zoom_range` is for randomly zooming inside pictures.\n",
        "* `horizontal_flip` is for randomly flipping half of the images horizontally. This is relevant when there are no assumptions of horizontal assymmetry (e.g. real-world pictures).\n",
        "* `fill_mode` is the strategy used for filling in newly created pixels, which can appear after a rotation or a width/height shift.\n",
        "\n",
        "\n",
        "Run the next cells to see the impact on the results. The code is similar to the baseline but the definition of `train_datagen` has been updated to use the parameters described above.\n"
      ]
    },
    {
      "cell_type": "code",
      "execution_count": 12,
      "metadata": {
        "id": "UK7_Fflgv8YC",
        "colab": {
          "base_uri": "https://localhost:8080/"
        },
        "outputId": "05e2a5a9-e957-4b1e-d83f-b9ba3e035219"
      },
      "outputs": [
        {
          "output_type": "stream",
          "name": "stdout",
          "text": [
            "Found 2000 images belonging to 2 classes.\n",
            "Found 1000 images belonging to 2 classes.\n",
            "Epoch 1/20\n",
            "100/100 - 19s - loss: 0.6953 - accuracy: 0.5110 - val_loss: 0.6831 - val_accuracy: 0.5450 - 19s/epoch - 189ms/step\n",
            "Epoch 2/20\n",
            "100/100 - 18s - loss: 0.6878 - accuracy: 0.5555 - val_loss: 0.6588 - val_accuracy: 0.6070 - 18s/epoch - 181ms/step\n",
            "Epoch 3/20\n",
            "100/100 - 18s - loss: 0.6782 - accuracy: 0.5610 - val_loss: 0.6506 - val_accuracy: 0.6170 - 18s/epoch - 180ms/step\n",
            "Epoch 4/20\n",
            "100/100 - 18s - loss: 0.6668 - accuracy: 0.5930 - val_loss: 0.7420 - val_accuracy: 0.5140 - 18s/epoch - 180ms/step\n",
            "Epoch 5/20\n",
            "100/100 - 18s - loss: 0.6594 - accuracy: 0.5980 - val_loss: 0.6060 - val_accuracy: 0.6800 - 18s/epoch - 179ms/step\n",
            "Epoch 6/20\n",
            "100/100 - 18s - loss: 0.6343 - accuracy: 0.6250 - val_loss: 0.5840 - val_accuracy: 0.6860 - 18s/epoch - 183ms/step\n",
            "Epoch 7/20\n",
            "100/100 - 18s - loss: 0.6204 - accuracy: 0.6395 - val_loss: 0.6076 - val_accuracy: 0.6440 - 18s/epoch - 184ms/step\n",
            "Epoch 8/20\n",
            "100/100 - 18s - loss: 0.6049 - accuracy: 0.6710 - val_loss: 0.5807 - val_accuracy: 0.6860 - 18s/epoch - 183ms/step\n",
            "Epoch 9/20\n",
            "100/100 - 18s - loss: 0.6020 - accuracy: 0.6645 - val_loss: 0.5559 - val_accuracy: 0.7030 - 18s/epoch - 183ms/step\n",
            "Epoch 10/20\n",
            "100/100 - 18s - loss: 0.5962 - accuracy: 0.6645 - val_loss: 0.5564 - val_accuracy: 0.7020 - 18s/epoch - 183ms/step\n",
            "Epoch 11/20\n",
            "100/100 - 19s - loss: 0.5883 - accuracy: 0.6830 - val_loss: 0.5597 - val_accuracy: 0.6940 - 19s/epoch - 191ms/step\n",
            "Epoch 12/20\n",
            "100/100 - 18s - loss: 0.5777 - accuracy: 0.7010 - val_loss: 0.6024 - val_accuracy: 0.6740 - 18s/epoch - 183ms/step\n",
            "Epoch 13/20\n",
            "100/100 - 18s - loss: 0.5824 - accuracy: 0.6950 - val_loss: 0.5301 - val_accuracy: 0.7320 - 18s/epoch - 184ms/step\n",
            "Epoch 14/20\n",
            "100/100 - 18s - loss: 0.5685 - accuracy: 0.7015 - val_loss: 0.6087 - val_accuracy: 0.6820 - 18s/epoch - 184ms/step\n",
            "Epoch 15/20\n",
            "100/100 - 18s - loss: 0.5656 - accuracy: 0.7060 - val_loss: 0.5227 - val_accuracy: 0.7160 - 18s/epoch - 183ms/step\n",
            "Epoch 16/20\n",
            "100/100 - 18s - loss: 0.5553 - accuracy: 0.7175 - val_loss: 0.5190 - val_accuracy: 0.7350 - 18s/epoch - 183ms/step\n",
            "Epoch 17/20\n",
            "100/100 - 18s - loss: 0.5542 - accuracy: 0.7140 - val_loss: 0.5143 - val_accuracy: 0.7290 - 18s/epoch - 182ms/step\n",
            "Epoch 18/20\n",
            "100/100 - 18s - loss: 0.5441 - accuracy: 0.7235 - val_loss: 0.5065 - val_accuracy: 0.7380 - 18s/epoch - 181ms/step\n",
            "Epoch 19/20\n",
            "100/100 - 18s - loss: 0.5294 - accuracy: 0.7370 - val_loss: 0.5187 - val_accuracy: 0.7140 - 18s/epoch - 182ms/step\n",
            "Epoch 20/20\n",
            "100/100 - 18s - loss: 0.5337 - accuracy: 0.7235 - val_loss: 0.5195 - val_accuracy: 0.7430 - 18s/epoch - 183ms/step\n"
          ]
        }
      ],
      "source": [
        "# Create new model\n",
        "model_for_aug = create_model()\n",
        "\n",
        "# This code has changed. Now instead of the ImageGenerator just rescaling\n",
        "# the image, we also rotate and do other operations\n",
        "train_datagen = ImageDataGenerator(\n",
        "      rescale=1./255,\n",
        "      rotation_range=40,\n",
        "      width_shift_range=0.2,\n",
        "      height_shift_range=0.2,\n",
        "      shear_range=0.2,\n",
        "      zoom_range=0.2,\n",
        "      horizontal_flip=True,\n",
        "      fill_mode='nearest')\n",
        "\n",
        "test_datagen = ImageDataGenerator(rescale=1./255)\n",
        "\n",
        "# Flow training images in batches of 20 using train_datagen generator\n",
        "train_generator = train_datagen.flow_from_directory(\n",
        "        train_dir,  # This is the source directory for training images\n",
        "        target_size=(150, 150),  # All images will be resized to 150x150\n",
        "        batch_size=20,\n",
        "        # Since we use binary_crossentropy loss, we need binary labels\n",
        "        class_mode='binary')\n",
        "\n",
        "# Flow validation images in batches of 20 using test_datagen generator\n",
        "validation_generator = test_datagen.flow_from_directory(\n",
        "        validation_dir,\n",
        "        target_size=(150, 150),\n",
        "        batch_size=20,\n",
        "        class_mode='binary')\n",
        "\n",
        "# Train the new model\n",
        "history_with_aug = model_for_aug.fit(\n",
        "      train_generator,\n",
        "      steps_per_epoch=100,  # 2000 images = batch_size * steps\n",
        "      epochs=EPOCHS,\n",
        "      validation_data=validation_generator,\n",
        "      validation_steps=50,  # 1000 images = batch_size * steps\n",
        "      verbose=2)"
      ]
    },
    {
      "cell_type": "code",
      "execution_count": 13,
      "metadata": {
        "id": "bnyRnwopT5aW",
        "colab": {
          "base_uri": "https://localhost:8080/",
          "height": 545
        },
        "outputId": "1a50b85c-8321-48e7-ff2f-0f720795d4b9"
      },
      "outputs": [
        {
          "output_type": "display_data",
          "data": {
            "text/plain": [
              "<Figure size 432x288 with 1 Axes>"
            ],
            "image/png": "[encoded data removed]"
          },
          "metadata": {
            "needs_background": "light"
          }
        },
        {
          "output_type": "display_data",
          "data": {
            "text/plain": [
              "<Figure size 432x288 with 1 Axes>"
            ],
            "image/png": "[encoded data removed]"
          },
          "metadata": {
            "needs_background": "light"
          }
        }
      ],
      "source": [
        "# Plot the results of training with data augmentation\n",
        "plot_loss_acc(history_with_aug)"
      ]
    },
    {
      "cell_type": "markdown",
      "metadata": {
        "id": "1D1hd5fqmJUx"
      },
      "source": [
        "As you can see, the training accuracy has gone down compared to the baseline. This is expected because (as a result of data augmentation) there are more variety in the images so the model will need more runs to learn from them. The good thing is the validation accuracy is no longer stalling and is more in line with the training results. This means that the model is now performing better on unseen data. \n",
        "\n",
        "\n"
      ]
    },
    {
      "cell_type": "markdown",
      "metadata": {
        "id": "z4B9b6GPnKg1"
      },
      "source": [
        "## Wrap Up\n",
        "\n",
        "This exercise showed a simple trick to avoid overfitting. You can improve your baseline results by simply tweaking the same images you have already. The `ImageDataGenerator` class has built-in parameters to do just that. Try to modify the values some more in the `train_datagen` and see what results you get.\n",
        "\n",
        "Take note that this will not work for all cases. In the next lesson, Laurence will show a scenario where data augmentation will not help improve your validation accuracy."
      ]
    }
  ],
  "metadata": {
    "accelerator": "GPU",
    "colab": {
      "collapsed_sections": [],
      "name": "Copy of C2_W2_Lab_1_cats_v_dogs_augmentation.ipynb",
      "provenance": [],
      "include_colab_link": true
    },
    "kernelspec": {
      "display_name": "Python 3",
      "language": "python",
      "name": "python3"
    },
    "language_info": {
      "codemirror_mode": {
        "name": "ipython",
        "version": 3
      },
      "file_extension": ".py",
      "mimetype": "text/x-python",
      "name": "python",
      "nbconvert_exporter": "python",
      "pygments_lexer": "ipython3",
      "version": "3.7.4"
    },
    "gpuClass": "standard"
  },
  "nbformat": 4,
  "nbformat_minor": 0
}
