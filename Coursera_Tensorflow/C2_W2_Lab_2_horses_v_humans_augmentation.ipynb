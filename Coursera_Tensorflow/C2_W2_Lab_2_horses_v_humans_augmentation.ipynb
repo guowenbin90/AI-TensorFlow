{
  "cells": [
    {
      "cell_type": "markdown",
      "metadata": {
        "id": "view-in-github",
        "colab_type": "text"
      },
      "source": [
        "<a href=\"https://colab.research.google.com/github/guowenbin90/AI-TensorFlow/blob/main/Coursera_Tensorflow/C2_W2_Lab_2_horses_v_humans_augmentation.ipynb\" target=\"_parent\"><img src=\"https://colab.research.google.com/assets/colab-badge.svg\" alt=\"Open In Colab\"/></a>"
      ]
    },
    {
      "cell_type": "markdown",
      "metadata": {
        "id": "37v_yExZppEp"
      },
      "source": [
        "# Ungraded Lab: Data Augmentation on the Horses or Humans Dataset\n",
        "\n",
        "In the previous lab, you saw how data augmentation helped improve the model's performance on unseen data. By tweaking the cat and dog training images, the model was able to learn features that are also representative of the validation data. However, applying data augmentation requires good understanding of your dataset. Simply transforming it randomly will not always yield good results. \n",
        "\n",
        "In the next cells, you will apply the same techniques to the `Horses or Humans` dataset and analyze the results."
      ]
    },
    {
      "cell_type": "code",
      "execution_count": 1,
      "metadata": {
        "id": "Lslf0vB3rQlU",
        "colab": {
          "base_uri": "https://localhost:8080/"
        },
        "outputId": "dfa4006a-75f0-4bb2-e48f-1b9d87f6f7b7"
      },
      "outputs": [
        {
          "output_type": "stream",
          "name": "stdout",
          "text": [
            "--2022-07-22 20:51:20--  https://storage.googleapis.com/tensorflow-1-public/course2/week3/horse-or-human.zip\n",
            "Resolving storage.googleapis.com (storage.googleapis.com)... 172.253.122.128, 172.253.63.128, 142.250.31.128, ...\n",
            "Connecting to storage.googleapis.com (storage.googleapis.com)|172.253.122.128|:443... connected.\n",
            "HTTP request sent, awaiting response... 200 OK\n",
            "Length: 149574867 (143M) [application/zip]\n",
            "Saving to: ‘horse-or-human.zip’\n",
            "\n",
            "horse-or-human.zip  100%[===================>] 142.65M   120MB/s    in 1.2s    \n",
            "\n",
            "2022-07-22 20:51:22 (120 MB/s) - ‘horse-or-human.zip’ saved [149574867/149574867]\n",
            "\n"
          ]
        }
      ],
      "source": [
        "# Download the training set\n",
        "!wget https://storage.googleapis.com/tensorflow-1-public/course2/week3/horse-or-human.zip"
      ]
    },
    {
      "cell_type": "code",
      "execution_count": 2,
      "metadata": {
        "id": "PA8ht12orOqB",
        "colab": {
          "base_uri": "https://localhost:8080/"
        },
        "outputId": "5648a1fa-407e-4478-ac7d-e9c1b24158b3"
      },
      "outputs": [
        {
          "output_type": "stream",
          "name": "stdout",
          "text": [
            "--2022-07-22 20:51:22--  https://storage.googleapis.com/tensorflow-1-public/course2/week3/validation-horse-or-human.zip\n",
            "Resolving storage.googleapis.com (storage.googleapis.com)... 142.251.16.128, 142.251.45.112, 142.251.45.16, ...\n",
            "Connecting to storage.googleapis.com (storage.googleapis.com)|142.251.16.128|:443... connected.\n",
            "HTTP request sent, awaiting response... 200 OK\n",
            "Length: 11480187 (11M) [application/zip]\n",
            "Saving to: ‘validation-horse-or-human.zip’\n",
            "\n",
            "validation-horse-or 100%[===================>]  10.95M  --.-KB/s    in 0.1s    \n",
            "\n",
            "2022-07-22 20:51:22 (114 MB/s) - ‘validation-horse-or-human.zip’ saved [11480187/11480187]\n",
            "\n"
          ]
        }
      ],
      "source": [
        "# Download the validation set\n",
        "!wget https://storage.googleapis.com/tensorflow-1-public/course2/week3/validation-horse-or-human.zip"
      ]
    },
    {
      "cell_type": "code",
      "execution_count": 3,
      "metadata": {
        "id": "RXZT2UsyIVe_"
      },
      "outputs": [],
      "source": [
        "import os\n",
        "import zipfile\n",
        "\n",
        "# Extract the archive\n",
        "zip_ref = zipfile.ZipFile('./horse-or-human.zip', 'r')\n",
        "zip_ref.extractall('tmp/horse-or-human')\n",
        "\n",
        "zip_ref = zipfile.ZipFile('./validation-horse-or-human.zip', 'r')\n",
        "zip_ref.extractall('tmp/validation-horse-or-human')\n",
        "\n",
        "zip_ref.close()\n",
        "\n",
        "# Directory with training horse pictures\n",
        "train_horse_dir = os.path.join('tmp/horse-or-human/horses')\n",
        "\n",
        "# Directory with training human pictures\n",
        "train_human_dir = os.path.join('tmp/horse-or-human/humans')\n",
        "\n",
        "# Directory with training horse pictures\n",
        "validation_horse_dir = os.path.join('tmp/validation-horse-or-human/horses')\n",
        "\n",
        "# Directory with training human pictures\n",
        "validation_human_dir = os.path.join('tmp/validation-horse-or-human/humans')"
      ]
    },
    {
      "cell_type": "code",
      "execution_count": 4,
      "metadata": {
        "id": "PixZ2s5QbYQ3"
      },
      "outputs": [],
      "source": [
        "import tensorflow as tf\n",
        "\n",
        "# Build the model\n",
        "model = tf.keras.models.Sequential([\n",
        "    # Note the input shape is the desired size of the image 300x300 with 3 bytes color\n",
        "    # This is the first convolution\n",
        "    tf.keras.layers.Conv2D(16, (3,3), activation='relu', input_shape=(300, 300, 3)),\n",
        "    tf.keras.layers.MaxPooling2D(2, 2),\n",
        "    # The second convolution\n",
        "    tf.keras.layers.Conv2D(32, (3,3), activation='relu'),\n",
        "    tf.keras.layers.MaxPooling2D(2,2),\n",
        "    # The third convolution\n",
        "    tf.keras.layers.Conv2D(64, (3,3), activation='relu'),\n",
        "    tf.keras.layers.MaxPooling2D(2,2),\n",
        "    # The fourth convolution\n",
        "    tf.keras.layers.Conv2D(64, (3,3), activation='relu'),\n",
        "    tf.keras.layers.MaxPooling2D(2,2),\n",
        "    # The fifth convolution\n",
        "    tf.keras.layers.Conv2D(64, (3,3), activation='relu'),\n",
        "    tf.keras.layers.MaxPooling2D(2,2),\n",
        "    # Flatten the results to feed into a DNN\n",
        "    tf.keras.layers.Flatten(),\n",
        "    # 512 neuron hidden layer\n",
        "    tf.keras.layers.Dense(512, activation='relu'),\n",
        "    # Only 1 output neuron. It will contain a value from 0-1 where 0 for 1 class ('horses') and 1 for the other ('humans')\n",
        "    tf.keras.layers.Dense(1, activation='sigmoid')\n",
        "])"
      ]
    },
    {
      "cell_type": "code",
      "execution_count": 5,
      "metadata": {
        "id": "8DHWhFP_uhq3"
      },
      "outputs": [],
      "source": [
        "from tensorflow.keras.optimizers import RMSprop\n",
        "\n",
        "# Set training parameters\n",
        "model.compile(loss='binary_crossentropy',\n",
        "              optimizer=RMSprop(learning_rate=1e-4),\n",
        "              metrics=['accuracy'])"
      ]
    },
    {
      "cell_type": "code",
      "execution_count": 6,
      "metadata": {
        "id": "ClebU9NJg99G",
        "colab": {
          "base_uri": "https://localhost:8080/"
        },
        "outputId": "13b7e5b9-9420-4878-dcaf-e52fe0df61b2"
      },
      "outputs": [
        {
          "output_type": "stream",
          "name": "stdout",
          "text": [
            "Found 1027 images belonging to 2 classes.\n",
            "Found 256 images belonging to 2 classes.\n"
          ]
        }
      ],
      "source": [
        "from tensorflow.keras.preprocessing.image import ImageDataGenerator\n",
        "\n",
        "# Apply data augmentation\n",
        "train_datagen = ImageDataGenerator(\n",
        "      rescale=1./255,\n",
        "      rotation_range=40,\n",
        "      width_shift_range=0.2,\n",
        "      height_shift_range=0.2,\n",
        "      shear_range=0.2,\n",
        "      zoom_range=0.2,\n",
        "      horizontal_flip=True,\n",
        "      fill_mode='nearest')\n",
        "\n",
        "validation_datagen = ImageDataGenerator(rescale=1/255)\n",
        "\n",
        "# Flow training images in batches of 128 using train_datagen generator\n",
        "train_generator = train_datagen.flow_from_directory(\n",
        "        'tmp/horse-or-human/',  # This is the source directory for training images\n",
        "        target_size=(300, 300),  # All images will be resized to 150x150\n",
        "        batch_size=128,\n",
        "        # Since we use binary_crossentropy loss, we need binary labels\n",
        "        class_mode='binary')\n",
        "\n",
        "# Flow training images in batches of 128 using train_datagen generator\n",
        "validation_generator = validation_datagen.flow_from_directory(\n",
        "        'tmp/validation-horse-or-human/',  # This is the source directory for training images\n",
        "        target_size=(300, 300),  # All images will be resized to 150x150\n",
        "        batch_size=32,\n",
        "        # Since we use binary_crossentropy loss, we need binary labels\n",
        "        class_mode='binary')"
      ]
    },
    {
      "cell_type": "code",
      "execution_count": 7,
      "metadata": {
        "id": "Fb1_lgobv81m",
        "colab": {
          "base_uri": "https://localhost:8080/"
        },
        "outputId": "96293c5c-3bc1-490f-a516-ae66f6ec0349"
      },
      "outputs": [
        {
          "output_type": "stream",
          "name": "stdout",
          "text": [
            "Epoch 1/20\n",
            "8/8 [==============================] - 34s 2s/step - loss: 0.6898 - accuracy: 0.5284 - val_loss: 0.7089 - val_accuracy: 0.5000\n",
            "Epoch 2/20\n",
            "8/8 [==============================] - 25s 3s/step - loss: 0.6502 - accuracy: 0.6768 - val_loss: 0.7071 - val_accuracy: 0.5000\n",
            "Epoch 3/20\n",
            "8/8 [==============================] - 22s 3s/step - loss: 0.6149 - accuracy: 0.6874 - val_loss: 0.6638 - val_accuracy: 0.5352\n",
            "Epoch 4/20\n",
            "8/8 [==============================] - 24s 3s/step - loss: 0.5990 - accuracy: 0.7061 - val_loss: 0.5691 - val_accuracy: 0.6445\n",
            "Epoch 5/20\n",
            "8/8 [==============================] - 24s 3s/step - loss: 0.5606 - accuracy: 0.7295 - val_loss: 0.8169 - val_accuracy: 0.5234\n",
            "Epoch 6/20\n",
            "8/8 [==============================] - 22s 3s/step - loss: 0.5480 - accuracy: 0.7442 - val_loss: 0.5850 - val_accuracy: 0.6172\n",
            "Epoch 7/20\n",
            "8/8 [==============================] - 21s 3s/step - loss: 0.5377 - accuracy: 0.7397 - val_loss: 1.0539 - val_accuracy: 0.5117\n",
            "Epoch 8/20\n",
            "8/8 [==============================] - 22s 3s/step - loss: 0.5160 - accuracy: 0.7375 - val_loss: 0.7594 - val_accuracy: 0.5625\n",
            "Epoch 9/20\n",
            "8/8 [==============================] - 21s 3s/step - loss: 0.5348 - accuracy: 0.7475 - val_loss: 0.7995 - val_accuracy: 0.5664\n",
            "Epoch 10/20\n",
            "8/8 [==============================] - 21s 3s/step - loss: 0.5275 - accuracy: 0.7475 - val_loss: 0.6149 - val_accuracy: 0.6250\n",
            "Epoch 11/20\n",
            "8/8 [==============================] - 22s 3s/step - loss: 0.4998 - accuracy: 0.7575 - val_loss: 1.0987 - val_accuracy: 0.5234\n",
            "Epoch 12/20\n",
            "8/8 [==============================] - 22s 3s/step - loss: 0.5082 - accuracy: 0.7386 - val_loss: 0.5324 - val_accuracy: 0.7266\n",
            "Epoch 13/20\n",
            "8/8 [==============================] - 21s 3s/step - loss: 0.4861 - accuracy: 0.7464 - val_loss: 0.8941 - val_accuracy: 0.5820\n",
            "Epoch 14/20\n",
            "8/8 [==============================] - 22s 3s/step - loss: 0.4660 - accuracy: 0.7675 - val_loss: 0.5509 - val_accuracy: 0.7383\n",
            "Epoch 15/20\n",
            "8/8 [==============================] - 24s 3s/step - loss: 0.4447 - accuracy: 0.7871 - val_loss: 1.0053 - val_accuracy: 0.5859\n",
            "Epoch 16/20\n",
            "8/8 [==============================] - 22s 3s/step - loss: 0.5091 - accuracy: 0.7786 - val_loss: 0.9415 - val_accuracy: 0.5938\n",
            "Epoch 17/20\n",
            "8/8 [==============================] - 21s 3s/step - loss: 0.4220 - accuracy: 0.8142 - val_loss: 0.3744 - val_accuracy: 0.8281\n",
            "Epoch 18/20\n",
            "8/8 [==============================] - 22s 3s/step - loss: 0.4364 - accuracy: 0.7853 - val_loss: 0.9897 - val_accuracy: 0.5820\n",
            "Epoch 19/20\n",
            "8/8 [==============================] - 21s 3s/step - loss: 0.3880 - accuracy: 0.8231 - val_loss: 0.2824 - val_accuracy: 0.8750\n",
            "Epoch 20/20\n",
            "8/8 [==============================] - 21s 3s/step - loss: 0.4881 - accuracy: 0.7987 - val_loss: 1.0149 - val_accuracy: 0.5977\n"
          ]
        }
      ],
      "source": [
        "# Constant for epochs\n",
        "EPOCHS = 20\n",
        "\n",
        "# Train the model\n",
        "history = model.fit(\n",
        "      train_generator,\n",
        "      steps_per_epoch=8,  \n",
        "      epochs=EPOCHS,\n",
        "      verbose=1,\n",
        "      validation_data = validation_generator,\n",
        "      validation_steps=8)"
      ]
    },
    {
      "cell_type": "code",
      "execution_count": 8,
      "metadata": {
        "id": "7zNPRWOVJdOH",
        "colab": {
          "base_uri": "https://localhost:8080/",
          "height": 545
        },
        "outputId": "02c5529b-bbdf-4efc-f17a-bdb97bacce06"
      },
      "outputs": [
        {
          "output_type": "display_data",
          "data": {
            "text/plain": [
              "<Figure size 432x288 with 1 Axes>"
            ],
            "image/png": "[encoded data removed]"
          },
          "metadata": {
            "needs_background": "light"
          }
        },
        {
          "output_type": "display_data",
          "data": {
            "text/plain": [
              "<Figure size 432x288 with 1 Axes>"
            ],
            "image/png": "[encoded data removed]"
          },
          "metadata": {
            "needs_background": "light"
          }
        }
      ],
      "source": [
        "import matplotlib.pyplot as plt\n",
        "\n",
        "# Plot the model results\n",
        "acc = history.history['accuracy']\n",
        "val_acc = history.history['val_accuracy']\n",
        "loss = history.history['loss']\n",
        "val_loss = history.history['val_loss']\n",
        "\n",
        "epochs = range(len(acc))\n",
        "\n",
        "plt.plot(epochs, acc, 'r', label='Training accuracy')\n",
        "plt.plot(epochs, val_acc, 'b', label='Validation accuracy')\n",
        "plt.title('Training and validation accuracy')\n",
        "\n",
        "plt.figure()\n",
        "\n",
        "plt.plot(epochs, loss, 'r', label='Training Loss')\n",
        "plt.plot(epochs, val_loss, 'b', label='Validation Loss')\n",
        "plt.title('Training and validation loss')\n",
        "plt.legend()\n",
        "\n",
        "plt.show()"
      ]
    },
    {
      "cell_type": "markdown",
      "metadata": {
        "id": "hwyabYvCsvtn"
      },
      "source": [
        "As you can see in the results, the preprocessing techniques used in augmenting the data did not help much in the results. The validation accuracy is fluctuating and not trending up like the training accuracy. This might be because the additional training data generated still do not represent the features in the validation data. For example, some human or horse poses in the validation set cannot be mimicked by the image processing techniques that `ImageDataGenerator` provides. It might also be that the background of the training images are also learned so the white background of the validation set is throwing the model off even with cropping. Try looking at the validation images in the `tmp/validation-horse-or-human` directory (note: if you are using Colab, you can use the file explorer on the left to explore the images) and see if you can augment the training images to match its characteristics. If this is not possible, then at this point you can consider other techniques and you will see that in next week's lessons."
      ]
    }
  ],
  "metadata": {
    "accelerator": "GPU",
    "colab": {
      "collapsed_sections": [],
      "name": "C2_W2_Lab_2_horses_v_humans_augmentation.ipynb",
      "provenance": [],
      "include_colab_link": true
    },
    "kernelspec": {
      "display_name": "Python 3",
      "language": "python",
      "name": "python3"
    },
    "language_info": {
      "codemirror_mode": {
        "name": "ipython",
        "version": 3
      },
      "file_extension": ".py",
      "mimetype": "text/x-python",
      "name": "python",
      "nbconvert_exporter": "python",
      "pygments_lexer": "ipython3",
      "version": "3.7.4"
    },
    "gpuClass": "standard"
  },
  "nbformat": 4,
  "nbformat_minor": 0
}