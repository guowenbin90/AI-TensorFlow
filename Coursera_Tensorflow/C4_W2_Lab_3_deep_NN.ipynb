{
  "cells": [
    {
      "cell_type": "markdown",
      "metadata": {
        "id": "view-in-github",
        "colab_type": "text"
      },
      "source": [
        "<a href=\"https://colab.research.google.com/github/guowenbin90/AI-TensorFlow/blob/main/Coursera_Tensorflow/C4_W2_Lab_3_deep_NN.ipynb\" target=\"_parent\"><img src=\"https://colab.research.google.com/assets/colab-badge.svg\" alt=\"Open In Colab\"/></a>"
      ]
    },
    {
      "cell_type": "markdown",
      "metadata": {
        "id": "dxFGlX1S53mg"
      },
      "source": [
        "# Ungraded Lab: Training a Deep Neural Network with Time Series Data\n",
        "\n",
        "In this lab, you will build upon the previous exercise and add more dense layers to your network. You will also look at a technique to tune the model's learning rate to make the weights converge faster. This is a useful tip so you can avoid guessing the learning rate before training.\n",
        "\n",
        "The initial steps will be identical to the previous lab so you can run the next cells until the `Build the Model` section. That's where the discussions begin."
      ]
    },
    {
      "cell_type": "markdown",
      "metadata": {
        "id": "w5S4XCUZ6GH7"
      },
      "source": [
        "## Imports"
      ]
    },
    {
      "cell_type": "code",
      "execution_count": 1,
      "metadata": {
        "id": "BOjujz601HcS"
      },
      "outputs": [],
      "source": [
        "import tensorflow as tf\n",
        "import numpy as np\n",
        "import matplotlib.pyplot as plt"
      ]
    },
    {
      "cell_type": "markdown",
      "metadata": {
        "id": "tjC8TSkp6IiH"
      },
      "source": [
        "## Utilities"
      ]
    },
    {
      "cell_type": "code",
      "execution_count": 2,
      "metadata": {
        "id": "Zswl7jRtGzkk"
      },
      "outputs": [],
      "source": [
        "def plot_series(time, series, format=\"-\", start=0, end=None):\n",
        "    \"\"\"\n",
        "    Visualizes time series data\n",
        "\n",
        "    Args:\n",
        "      time (array of int) - contains the time steps\n",
        "      series (array of int) - contains the measurements for each time step\n",
        "      format - line style when plotting the graph\n",
        "      label - tag for the line\n",
        "      start - first time step to plot\n",
        "      end - last time step to plot\n",
        "    \"\"\"\n",
        "\n",
        "    # Setup dimensions of the graph figure\n",
        "    plt.figure(figsize=(10, 6))\n",
        "    \n",
        "    if type(series) is tuple:\n",
        "\n",
        "      for series_num in series:\n",
        "        # Plot the time series data\n",
        "        plt.plot(time[start:end], series_num[start:end], format)\n",
        "\n",
        "    else:\n",
        "      # Plot the time series data\n",
        "      plt.plot(time[start:end], series[start:end], format)\n",
        "\n",
        "    # Label the x-axis\n",
        "    plt.xlabel(\"Time\")\n",
        "\n",
        "    # Label the y-axis\n",
        "    plt.ylabel(\"Value\")\n",
        "\n",
        "    # Overlay a grid on the graph\n",
        "    plt.grid(True)\n",
        "\n",
        "    # Draw the graph on screen\n",
        "    plt.show()\n",
        "\n",
        "def trend(time, slope=0):\n",
        "    \"\"\"\n",
        "    Generates synthetic data that follows a straight line given a slope value.\n",
        "\n",
        "    Args:\n",
        "      time (array of int) - contains the time steps\n",
        "      slope (float) - determines the direction and steepness of the line\n",
        "\n",
        "    Returns:\n",
        "      series (array of float) - measurements that follow a straight line\n",
        "    \"\"\"\n",
        "\n",
        "    # Compute the linear series given the slope\n",
        "    series = slope * time\n",
        "\n",
        "    return series\n",
        "\n",
        "def seasonal_pattern(season_time):\n",
        "    \"\"\"\n",
        "    Just an arbitrary pattern, you can change it if you wish\n",
        "    \n",
        "    Args:\n",
        "      season_time (array of float) - contains the measurements per time step\n",
        "\n",
        "    Returns:\n",
        "      data_pattern (array of float) -  contains revised measurement values according \n",
        "                                  to the defined pattern\n",
        "    \"\"\"\n",
        "\n",
        "    # Generate the values using an arbitrary pattern\n",
        "    data_pattern = np.where(season_time < 0.4,\n",
        "                    np.cos(season_time * 2 * np.pi),\n",
        "                    1 / np.exp(3 * season_time))\n",
        "    \n",
        "    return data_pattern\n",
        "\n",
        "def seasonality(time, period, amplitude=1, phase=0):\n",
        "    \"\"\"\n",
        "    Repeats the same pattern at each period\n",
        "\n",
        "    Args:\n",
        "      time (array of int) - contains the time steps\n",
        "      period (int) - number of time steps before the pattern repeats\n",
        "      amplitude (int) - peak measured value in a period\n",
        "      phase (int) - number of time steps to shift the measured values\n",
        "\n",
        "    Returns:\n",
        "      data_pattern (array of float) - seasonal data scaled by the defined amplitude\n",
        "    \"\"\"\n",
        "    \n",
        "    # Define the measured values per period\n",
        "    season_time = ((time + phase) % period) / period\n",
        "\n",
        "    # Generates the seasonal data scaled by the defined amplitude\n",
        "    data_pattern = amplitude * seasonal_pattern(season_time)\n",
        "\n",
        "    return data_pattern\n",
        "\n",
        "def noise(time, noise_level=1, seed=None):\n",
        "    \"\"\"Generates a normally distributed noisy signal\n",
        "\n",
        "    Args:\n",
        "      time (array of int) - contains the time steps\n",
        "      noise_level (float) - scaling factor for the generated signal\n",
        "      seed (int) - number generator seed for repeatability\n",
        "\n",
        "    Returns:\n",
        "      noise (array of float) - the noisy signal\n",
        "    \"\"\"\n",
        "\n",
        "    # Initialize the random number generator\n",
        "    rnd = np.random.RandomState(seed)\n",
        "\n",
        "    # Generate a random number for each time step and scale by the noise level\n",
        "    noise = rnd.randn(len(time)) * noise_level\n",
        "    \n",
        "    return noise"
      ]
    },
    {
      "cell_type": "markdown",
      "metadata": {
        "id": "Z1CL6Bh86TS1"
      },
      "source": [
        "## Generate the Synthetic Data"
      ]
    },
    {
      "cell_type": "code",
      "execution_count": 3,
      "metadata": {
        "id": "5MFtI3X1FErU",
        "colab": {
          "base_uri": "https://localhost:8080/",
          "height": 388
        },
        "outputId": "0985b569-5f24-46bb-d6ac-8ff95b4ca1af"
      },
      "outputs": [
        {
          "output_type": "display_data",
          "data": {
            "text/plain": [
              "<Figure size 720x432 with 1 Axes>"
            ],
            "image/png": "[encoded data removed]"
          },
          "metadata": {
            "needs_background": "light"
          }
        }
      ],
      "source": [
        "# Parameters\n",
        "time = np.arange(4 * 365 + 1, dtype=\"float32\")\n",
        "baseline = 10\n",
        "amplitude = 40\n",
        "slope = 0.05\n",
        "noise_level = 5\n",
        "\n",
        "# Create the series\n",
        "series = baseline + trend(time, slope) + seasonality(time, period=365, amplitude=amplitude)\n",
        "\n",
        "# Update with noise\n",
        "series += noise(time, noise_level, seed=42)\n",
        "\n",
        "# Plot the results\n",
        "plot_series(time, series)"
      ]
    },
    {
      "cell_type": "markdown",
      "metadata": {
        "id": "t2YvxWcI6lnB"
      },
      "source": [
        "## Split the Dataset"
      ]
    },
    {
      "cell_type": "code",
      "execution_count": 4,
      "metadata": {
        "id": "Db9kkYnOFKYr"
      },
      "outputs": [],
      "source": [
        "# Define the split time\n",
        "split_time = 1000\n",
        "\n",
        "# Get the train set \n",
        "time_train = time[:split_time]\n",
        "x_train = series[:split_time]\n",
        "\n",
        "# Get the validation set\n",
        "time_valid = time[split_time:]\n",
        "x_valid = series[split_time:]"
      ]
    },
    {
      "cell_type": "markdown",
      "metadata": {
        "id": "XH-0FgXN6zHA"
      },
      "source": [
        "## Prepare Features and Labels"
      ]
    },
    {
      "cell_type": "code",
      "execution_count": 5,
      "metadata": {
        "id": "AyBwNWO1FVTS"
      },
      "outputs": [],
      "source": [
        "# Parameters\n",
        "window_size = 20\n",
        "batch_size = 32\n",
        "shuffle_buffer_size = 1000"
      ]
    },
    {
      "cell_type": "code",
      "execution_count": 6,
      "metadata": {
        "id": "4sTTIOCbyShY"
      },
      "outputs": [],
      "source": [
        "def windowed_dataset(series, window_size, batch_size, shuffle_buffer):\n",
        "    \"\"\"Generates dataset windows\n",
        "\n",
        "    Args:\n",
        "      series (array of float) - contains the values of the time series\n",
        "      window_size (int) - the number of time steps to average\n",
        "      batch_size (int) - the batch size\n",
        "      shuffle_buffer(int) - buffer size to use for the shuffle method\n",
        "\n",
        "    Returns:\n",
        "      dataset (TF Dataset) - TF Dataset containing time windows\n",
        "    \"\"\"\n",
        "  \n",
        "    # Generate a TF Dataset from the series values\n",
        "    dataset = tf.data.Dataset.from_tensor_slices(series)\n",
        "    \n",
        "    # Window the data but only take those with the specified size\n",
        "    dataset = dataset.window(window_size + 1, shift=1, drop_remainder=True)\n",
        "    \n",
        "    # Flatten the windows by putting its elements in a single batch\n",
        "    dataset = dataset.flat_map(lambda window: window.batch(window_size + 1))\n",
        "\n",
        "    # Create tuples with features and labels \n",
        "    dataset = dataset.map(lambda window: (window[:-1], window[-1]))\n",
        "\n",
        "    # Shuffle the windows\n",
        "    dataset = dataset.shuffle(shuffle_buffer)\n",
        "    \n",
        "    # Create batches of windows\n",
        "    dataset = dataset.batch(batch_size).prefetch(1)\n",
        "    \n",
        "    return dataset"
      ]
    },
    {
      "cell_type": "code",
      "execution_count": 7,
      "metadata": {
        "id": "AdNN0s9qFnTg"
      },
      "outputs": [],
      "source": [
        "# Generate the dataset windows\n",
        "dataset = windowed_dataset(x_train, window_size, batch_size, shuffle_buffer_size)"
      ]
    },
    {
      "cell_type": "markdown",
      "metadata": {
        "id": "ths8EcjQ7CG3"
      },
      "source": [
        "## Build the Model\n",
        "\n",
        "You will use three dense layers in this exercise as shown below. As expected, the number of trainable parameters will increase and the model summary shows that it is more than tenfold of the previous lab."
      ]
    },
    {
      "cell_type": "code",
      "execution_count": 8,
      "metadata": {
        "id": "TW-vT7eLYAdb",
        "colab": {
          "base_uri": "https://localhost:8080/"
        },
        "outputId": "fa55d09f-ac36-451b-ac6d-7443599afcf2"
      },
      "outputs": [
        {
          "output_type": "stream",
          "name": "stdout",
          "text": [
            "Model: \"sequential\"\n",
            "_________________________________________________________________\n",
            " Layer (type)                Output Shape              Param #   \n",
            "=================================================================\n",
            " dense (Dense)               (None, 10)                210       \n",
            "                                                                 \n",
            " dense_1 (Dense)             (None, 10)                110       \n",
            "                                                                 \n",
            " dense_2 (Dense)             (None, 1)                 11        \n",
            "                                                                 \n",
            "=================================================================\n",
            "Total params: 331\n",
            "Trainable params: 331\n",
            "Non-trainable params: 0\n",
            "_________________________________________________________________\n"
          ]
        }
      ],
      "source": [
        "# Build the model\n",
        "model_baseline = tf.keras.models.Sequential([\n",
        "    tf.keras.layers.Dense(10, input_shape=[window_size], activation=\"relu\"), \n",
        "    tf.keras.layers.Dense(10, activation=\"relu\"), \n",
        "    tf.keras.layers.Dense(1)\n",
        "])\n",
        "\n",
        "# Print the model summary\n",
        "model_baseline.summary()"
      ]
    },
    {
      "cell_type": "markdown",
      "metadata": {
        "id": "4xWDKTGR7XQd"
      },
      "source": [
        "## Train the Model\n",
        "\n",
        "You will then compile and train the model using the same settings as before. Observe how the loss is decreasing because you will revisit it later in this lab."
      ]
    },
    {
      "cell_type": "code",
      "execution_count": 9,
      "metadata": {
        "id": "unwiKhWn7nqS"
      },
      "outputs": [],
      "source": [
        "# Set the training parameters\n",
        "model_baseline.compile(loss=\"mse\", optimizer=tf.keras.optimizers.SGD(learning_rate=1e-6, momentum=0.9))"
      ]
    },
    {
      "cell_type": "code",
      "execution_count": 10,
      "metadata": {
        "id": "zqVlvuneFqJz",
        "colab": {
          "base_uri": "https://localhost:8080/"
        },
        "outputId": "71d80434-b65a-4d54-8976-135ffda07c65"
      },
      "outputs": [
        {
          "output_type": "stream",
          "name": "stdout",
          "text": [
            "Epoch 1/100\n",
            "31/31 [==============================] - 2s 28ms/step - loss: 2515.1702\n",
            "Epoch 2/100\n",
            "31/31 [==============================] - 0s 3ms/step - loss: 1393.2467\n",
            "Epoch 3/100\n",
            "31/31 [==============================] - 0s 4ms/step - loss: 174.2744\n",
            "Epoch 4/100\n",
            "31/31 [==============================] - 0s 3ms/step - loss: 99.5523\n",
            "Epoch 5/100\n",
            "31/31 [==============================] - 0s 3ms/step - loss: 93.0046\n",
            "Epoch 6/100\n",
            "31/31 [==============================] - 0s 5ms/step - loss: 89.9751\n",
            "Epoch 7/100\n",
            "31/31 [==============================] - 0s 3ms/step - loss: 87.7679\n",
            "Epoch 8/100\n",
            "31/31 [==============================] - 0s 2ms/step - loss: 84.6225\n",
            "Epoch 9/100\n",
            "31/31 [==============================] - 0s 2ms/step - loss: 82.3193\n",
            "Epoch 10/100\n",
            "31/31 [==============================] - 0s 2ms/step - loss: 79.8657\n",
            "Epoch 11/100\n",
            "31/31 [==============================] - 0s 2ms/step - loss: 78.0313\n",
            "Epoch 12/100\n",
            "31/31 [==============================] - 0s 3ms/step - loss: 75.9749\n",
            "Epoch 13/100\n",
            "31/31 [==============================] - 0s 4ms/step - loss: 74.1598\n",
            "Epoch 14/100\n",
            "31/31 [==============================] - 0s 4ms/step - loss: 73.1649\n",
            "Epoch 15/100\n",
            "31/31 [==============================] - 1s 5ms/step - loss: 71.5777\n",
            "Epoch 16/100\n",
            "31/31 [==============================] - 0s 3ms/step - loss: 70.6204\n",
            "Epoch 17/100\n",
            "31/31 [==============================] - 0s 2ms/step - loss: 69.2760\n",
            "Epoch 18/100\n",
            "31/31 [==============================] - 0s 4ms/step - loss: 67.7196\n",
            "Epoch 19/100\n",
            "31/31 [==============================] - 0s 1ms/step - loss: 67.1540\n",
            "Epoch 20/100\n",
            "31/31 [==============================] - 0s 1ms/step - loss: 66.3322\n",
            "Epoch 21/100\n",
            "31/31 [==============================] - 0s 2ms/step - loss: 65.4167\n",
            "Epoch 22/100\n",
            "31/31 [==============================] - 0s 1ms/step - loss: 64.8580\n",
            "Epoch 23/100\n",
            "31/31 [==============================] - 0s 1ms/step - loss: 64.4383\n",
            "Epoch 24/100\n",
            "31/31 [==============================] - 0s 1ms/step - loss: 63.7149\n",
            "Epoch 25/100\n",
            "31/31 [==============================] - 0s 1ms/step - loss: 62.9676\n",
            "Epoch 26/100\n",
            "31/31 [==============================] - 0s 1ms/step - loss: 62.7369\n",
            "Epoch 27/100\n",
            "31/31 [==============================] - 0s 2ms/step - loss: 62.3758\n",
            "Epoch 28/100\n",
            "31/31 [==============================] - 0s 1ms/step - loss: 61.9308\n",
            "Epoch 29/100\n",
            "31/31 [==============================] - 0s 1ms/step - loss: 60.8542\n",
            "Epoch 30/100\n",
            "31/31 [==============================] - 0s 1ms/step - loss: 61.4398\n",
            "Epoch 31/100\n",
            "31/31 [==============================] - 0s 1ms/step - loss: 60.6010\n",
            "Epoch 32/100\n",
            "31/31 [==============================] - 0s 1ms/step - loss: 60.0036\n",
            "Epoch 33/100\n",
            "31/31 [==============================] - 0s 1ms/step - loss: 59.8734\n",
            "Epoch 34/100\n",
            "31/31 [==============================] - 0s 1ms/step - loss: 59.4980\n",
            "Epoch 35/100\n",
            "31/31 [==============================] - 0s 1ms/step - loss: 59.0798\n",
            "Epoch 36/100\n",
            "31/31 [==============================] - 0s 1ms/step - loss: 59.1773\n",
            "Epoch 37/100\n",
            "31/31 [==============================] - 0s 1ms/step - loss: 58.5536\n",
            "Epoch 38/100\n",
            "31/31 [==============================] - 0s 2ms/step - loss: 58.3780\n",
            "Epoch 39/100\n",
            "31/31 [==============================] - 0s 1ms/step - loss: 58.1486\n",
            "Epoch 40/100\n",
            "31/31 [==============================] - 0s 1ms/step - loss: 58.3262\n",
            "Epoch 41/100\n",
            "31/31 [==============================] - 0s 2ms/step - loss: 57.3247\n",
            "Epoch 42/100\n",
            "31/31 [==============================] - 0s 1ms/step - loss: 57.4778\n",
            "Epoch 43/100\n",
            "31/31 [==============================] - 0s 2ms/step - loss: 57.3450\n",
            "Epoch 44/100\n",
            "31/31 [==============================] - 0s 2ms/step - loss: 57.5987\n",
            "Epoch 45/100\n",
            "31/31 [==============================] - 0s 2ms/step - loss: 56.6616\n",
            "Epoch 46/100\n",
            "31/31 [==============================] - 0s 1ms/step - loss: 56.3133\n",
            "Epoch 47/100\n",
            "31/31 [==============================] - 0s 1ms/step - loss: 56.6647\n",
            "Epoch 48/100\n",
            "31/31 [==============================] - 0s 1ms/step - loss: 56.1196\n",
            "Epoch 49/100\n",
            "31/31 [==============================] - 0s 2ms/step - loss: 55.8565\n",
            "Epoch 50/100\n",
            "31/31 [==============================] - 0s 1ms/step - loss: 55.6339\n",
            "Epoch 51/100\n",
            "31/31 [==============================] - 0s 1ms/step - loss: 55.4484\n",
            "Epoch 52/100\n",
            "31/31 [==============================] - 0s 1ms/step - loss: 55.2542\n",
            "Epoch 53/100\n",
            "31/31 [==============================] - 0s 2ms/step - loss: 55.3260\n",
            "Epoch 54/100\n",
            "31/31 [==============================] - 0s 1ms/step - loss: 55.4846\n",
            "Epoch 55/100\n",
            "31/31 [==============================] - 0s 2ms/step - loss: 54.7194\n",
            "Epoch 56/100\n",
            "31/31 [==============================] - 0s 1ms/step - loss: 54.5114\n",
            "Epoch 57/100\n",
            "31/31 [==============================] - 0s 1ms/step - loss: 54.6441\n",
            "Epoch 58/100\n",
            "31/31 [==============================] - 0s 2ms/step - loss: 54.4101\n",
            "Epoch 59/100\n",
            "31/31 [==============================] - 0s 1ms/step - loss: 54.2104\n",
            "Epoch 60/100\n",
            "31/31 [==============================] - 0s 1ms/step - loss: 54.0320\n",
            "Epoch 61/100\n",
            "31/31 [==============================] - 0s 2ms/step - loss: 54.1263\n",
            "Epoch 62/100\n",
            "31/31 [==============================] - 0s 1ms/step - loss: 53.9260\n",
            "Epoch 63/100\n",
            "31/31 [==============================] - 0s 1ms/step - loss: 53.8790\n",
            "Epoch 64/100\n",
            "31/31 [==============================] - 0s 2ms/step - loss: 53.4891\n",
            "Epoch 65/100\n",
            "31/31 [==============================] - 0s 2ms/step - loss: 53.6085\n",
            "Epoch 66/100\n",
            "31/31 [==============================] - 0s 1ms/step - loss: 53.1791\n",
            "Epoch 67/100\n",
            "31/31 [==============================] - 0s 1ms/step - loss: 53.2954\n",
            "Epoch 68/100\n",
            "31/31 [==============================] - 0s 2ms/step - loss: 53.4898\n",
            "Epoch 69/100\n",
            "31/31 [==============================] - 0s 1ms/step - loss: 52.9532\n",
            "Epoch 70/100\n",
            "31/31 [==============================] - 0s 2ms/step - loss: 52.6713\n",
            "Epoch 71/100\n",
            "31/31 [==============================] - 0s 1ms/step - loss: 52.5475\n",
            "Epoch 72/100\n",
            "31/31 [==============================] - 0s 2ms/step - loss: 52.3053\n",
            "Epoch 73/100\n",
            "31/31 [==============================] - 0s 1ms/step - loss: 52.5286\n",
            "Epoch 74/100\n",
            "31/31 [==============================] - 0s 1ms/step - loss: 52.1305\n",
            "Epoch 75/100\n",
            "31/31 [==============================] - 0s 1ms/step - loss: 51.9269\n",
            "Epoch 76/100\n",
            "31/31 [==============================] - 0s 2ms/step - loss: 52.4110\n",
            "Epoch 77/100\n",
            "31/31 [==============================] - 0s 1ms/step - loss: 51.6213\n",
            "Epoch 78/100\n",
            "31/31 [==============================] - 0s 1ms/step - loss: 51.7431\n",
            "Epoch 79/100\n",
            "31/31 [==============================] - 0s 2ms/step - loss: 51.8140\n",
            "Epoch 80/100\n",
            "31/31 [==============================] - 0s 2ms/step - loss: 51.6411\n",
            "Epoch 81/100\n",
            "31/31 [==============================] - 0s 1ms/step - loss: 51.6834\n",
            "Epoch 82/100\n",
            "31/31 [==============================] - 0s 1ms/step - loss: 51.3519\n",
            "Epoch 83/100\n",
            "31/31 [==============================] - 0s 1ms/step - loss: 51.3193\n",
            "Epoch 84/100\n",
            "31/31 [==============================] - 0s 1ms/step - loss: 50.9958\n",
            "Epoch 85/100\n",
            "31/31 [==============================] - 0s 1ms/step - loss: 51.2722\n",
            "Epoch 86/100\n",
            "31/31 [==============================] - 0s 1ms/step - loss: 50.9132\n",
            "Epoch 87/100\n",
            "31/31 [==============================] - 0s 1ms/step - loss: 50.8147\n",
            "Epoch 88/100\n",
            "31/31 [==============================] - 0s 1ms/step - loss: 51.0459\n",
            "Epoch 89/100\n",
            "31/31 [==============================] - 0s 1ms/step - loss: 51.3562\n",
            "Epoch 90/100\n",
            "31/31 [==============================] - 0s 1ms/step - loss: 50.7212\n",
            "Epoch 91/100\n",
            "31/31 [==============================] - 0s 1ms/step - loss: 50.8436\n",
            "Epoch 92/100\n",
            "31/31 [==============================] - 0s 2ms/step - loss: 50.3989\n",
            "Epoch 93/100\n",
            "31/31 [==============================] - 0s 1ms/step - loss: 50.8553\n",
            "Epoch 94/100\n",
            "31/31 [==============================] - 0s 1ms/step - loss: 50.6869\n",
            "Epoch 95/100\n",
            "31/31 [==============================] - 0s 1ms/step - loss: 49.9427\n",
            "Epoch 96/100\n",
            "31/31 [==============================] - 0s 1ms/step - loss: 50.4291\n",
            "Epoch 97/100\n",
            "31/31 [==============================] - 0s 2ms/step - loss: 50.0875\n",
            "Epoch 98/100\n",
            "31/31 [==============================] - 0s 1ms/step - loss: 50.3237\n",
            "Epoch 99/100\n",
            "31/31 [==============================] - 0s 1ms/step - loss: 50.1196\n",
            "Epoch 100/100\n",
            "31/31 [==============================] - 0s 1ms/step - loss: 49.7854\n"
          ]
        },
        {
          "output_type": "execute_result",
          "data": {
            "text/plain": [
              "<keras.callbacks.History at 0x7feaa5fcfd10>"
            ]
          },
          "metadata": {},
          "execution_count": 10
        }
      ],
      "source": [
        "# Train the model\n",
        "model_baseline.fit(dataset,epochs=100)"
      ]
    },
    {
      "cell_type": "markdown",
      "metadata": {
        "id": "0-5QVzo1Tv-_"
      },
      "source": [
        "You can then get some predictions and visualize it as before. Since the network is deeper, the predictions might go slower so you may want to minimize unnecessary computations. \n",
        "\n",
        "In the previous lab, you might remember the model generating predictions using the entire `series` data. That resulted in 1,441 points in the `forecast` list then you sliced the 461 points that aligns with the validation set using `forecast = forecast[split_time - window_size:]`. \n",
        "\n",
        "You can make this process faster by just generating 461 points right from the start. That way, you don't waste time predicting points that will just be thrown away later. The code below will do just that. It will just get the points needed from the original `series` before calling the `predict()` method. With that, all predictions will align with the validation set already and the for-loop will run for only 461 times instead of 1,441. \n",
        "\n",
        "In the next lab, you'll see an even faster way to generate these predictions."
      ]
    },
    {
      "cell_type": "code",
      "execution_count": 11,
      "metadata": {
        "id": "efhco2rYyIFF",
        "colab": {
          "base_uri": "https://localhost:8080/",
          "height": 388
        },
        "outputId": "6d447cca-39c6-4497-f222-30b5a9a2742f"
      },
      "outputs": [
        {
          "output_type": "display_data",
          "data": {
            "text/plain": [
              "<Figure size 720x432 with 1 Axes>"
            ],
            "image/png": "[encoded data removed]"
          },
          "metadata": {
            "needs_background": "light"
          }
        }
      ],
      "source": [
        "# Initialize a list\n",
        "forecast = []\n",
        "\n",
        "# Reduce the original series\n",
        "forecast_series = series[split_time - window_size:]\n",
        "\n",
        "# Use the model to predict data points per window size\n",
        "for time in range(len(forecast_series) - window_size):\n",
        "  forecast.append(model_baseline.predict(forecast_series[time:time + window_size][np.newaxis]))\n",
        "\n",
        "# Convert to a numpy array and drop single dimensional axes\n",
        "results = np.array(forecast).squeeze()\n",
        "\n",
        "# Plot the results\n",
        "plot_series(time_valid, (x_valid, results))"
      ]
    },
    {
      "cell_type": "markdown",
      "metadata": {
        "id": "Lk5VkqNjh8Ws"
      },
      "source": [
        "You can then get the MSE and MAE for reference."
      ]
    },
    {
      "cell_type": "code",
      "execution_count": 12,
      "metadata": {
        "id": "-kT6j186YO6K",
        "colab": {
          "base_uri": "https://localhost:8080/"
        },
        "outputId": "c7665d82-22f6-45a9-9eae-9fb754335755"
      },
      "outputs": [
        {
          "output_type": "stream",
          "name": "stdout",
          "text": [
            "48.10525\n",
            "5.234751\n"
          ]
        }
      ],
      "source": [
        "# Compute the metrics\n",
        "print(tf.keras.metrics.mean_squared_error(x_valid, results).numpy())\n",
        "print(tf.keras.metrics.mean_absolute_error(x_valid, results).numpy())"
      ]
    },
    {
      "cell_type": "markdown",
      "metadata": {
        "id": "tQB2gyq18YvD"
      },
      "source": [
        "## Tune the learning rate\n",
        "\n",
        "You saw that the training went well with the initial learning rate that you chose (i.e. `1e-6`). However, you're not yet sure if it is the best setting for this particular model. It might seem inconsequential in this simple model but when you have more complex ones, spending some time to tune the learning rate can lead to better training results. You will see how to do that in this section.\n",
        "\n",
        "First, you will build the same model architecture you just used."
      ]
    },
    {
      "cell_type": "code",
      "execution_count": 13,
      "metadata": {
        "id": "tnCe_nBKu7RB"
      },
      "outputs": [],
      "source": [
        "# Build the Model\n",
        "model_tune = tf.keras.models.Sequential([\n",
        "    tf.keras.layers.Dense(10, input_shape=[window_size], activation=\"relu\"), \n",
        "    tf.keras.layers.Dense(10, activation=\"relu\"), \n",
        "    tf.keras.layers.Dense(1)\n",
        "])"
      ]
    },
    {
      "cell_type": "markdown",
      "metadata": {
        "id": "CTSWS74Qj-G0"
      },
      "source": [
        "Next, you will declare a [learning rate scheduler](https://www.tensorflow.org/api_docs/python/tf/keras/callbacks/LearningRateScheduler) callback. This will allow you to dynamically set the learning rate based on the epoch number during training. As shown below, you will pass a lambda function to declare the value of the learning rate. It will start at `1e-8` at epoch 0 and is scaled by `10**(epoch / 20)` as the training goes on."
      ]
    },
    {
      "cell_type": "code",
      "execution_count": 14,
      "metadata": {
        "id": "6FDVah6-885n"
      },
      "outputs": [],
      "source": [
        "# Set the learning rate scheduler\n",
        "lr_schedule = tf.keras.callbacks.LearningRateScheduler(\n",
        "    lambda epoch: 1e-8 * 10**(epoch / 20))"
      ]
    },
    {
      "cell_type": "markdown",
      "metadata": {
        "id": "M4SJZxL1lqPX"
      },
      "source": [
        "You will then compile the model. Just to note a subtle difference with the lecture video, you don't have to set the `learning_rate` argument of the optimizer here before compiling. You can just leave the default (i.e. [`0.01` for SGD](https://www.tensorflow.org/api_docs/python/tf/keras/optimizers/SGD#args)) and allow the learning rate scheduler to set it dynamically."
      ]
    },
    {
      "cell_type": "code",
      "execution_count": 15,
      "metadata": {
        "id": "66MDQGRc9AKU"
      },
      "outputs": [],
      "source": [
        "# Initialize the optimizer\n",
        "optimizer = tf.keras.optimizers.SGD(momentum=0.9)\n",
        "\n",
        "# Set the training parameters\n",
        "model_tune.compile(loss=\"mse\", optimizer=optimizer)"
      ]
    },
    {
      "cell_type": "markdown",
      "metadata": {
        "id": "zMgbgBYzmXBi"
      },
      "source": [
        "You will pass in the `lr_schedule` callback in the `callbacks` parameter of the [`fit()`](https://www.tensorflow.org/api_docs/python/tf/keras/Model#fit) method. As you run the training below, you will see the learning rate at a particular epoch denoted by `lr` in the console output. Notice that it is increasing as expected based on the lambda function you used."
      ]
    },
    {
      "cell_type": "code",
      "execution_count": 16,
      "metadata": {
        "id": "Ef5o5DmQkuuy",
        "colab": {
          "base_uri": "https://localhost:8080/"
        },
        "outputId": "3b604cf5-c41d-47f8-ca2a-95b90e27cfed"
      },
      "outputs": [
        {
          "output_type": "stream",
          "name": "stdout",
          "text": [
            "Epoch 1/100\n",
            "31/31 [==============================] - 1s 3ms/step - loss: 2358.5020 - lr: 1.0000e-08\n",
            "Epoch 2/100\n",
            "31/31 [==============================] - 0s 2ms/step - loss: 2083.6062 - lr: 1.1220e-08\n",
            "Epoch 3/100\n",
            "31/31 [==============================] - 0s 1ms/step - loss: 1754.0487 - lr: 1.2589e-08\n",
            "Epoch 4/100\n",
            "31/31 [==============================] - 0s 2ms/step - loss: 1432.1210 - lr: 1.4125e-08\n",
            "Epoch 5/100\n",
            "31/31 [==============================] - 0s 1ms/step - loss: 1136.8135 - lr: 1.5849e-08\n",
            "Epoch 6/100\n",
            "31/31 [==============================] - 0s 1ms/step - loss: 873.1426 - lr: 1.7783e-08\n",
            "Epoch 7/100\n",
            "31/31 [==============================] - 0s 1ms/step - loss: 641.3408 - lr: 1.9953e-08\n",
            "Epoch 8/100\n",
            "31/31 [==============================] - 0s 2ms/step - loss: 448.3185 - lr: 2.2387e-08\n",
            "Epoch 9/100\n",
            "31/31 [==============================] - 0s 1ms/step - loss: 298.0206 - lr: 2.5119e-08\n",
            "Epoch 10/100\n",
            "31/31 [==============================] - 0s 1ms/step - loss: 191.6254 - lr: 2.8184e-08\n",
            "Epoch 11/100\n",
            "31/31 [==============================] - 0s 2ms/step - loss: 126.2097 - lr: 3.1623e-08\n",
            "Epoch 12/100\n",
            "31/31 [==============================] - 0s 1ms/step - loss: 92.2014 - lr: 3.5481e-08\n",
            "Epoch 13/100\n",
            "31/31 [==============================] - 0s 1ms/step - loss: 77.8437 - lr: 3.9811e-08\n",
            "Epoch 14/100\n",
            "31/31 [==============================] - 0s 1ms/step - loss: 72.9096 - lr: 4.4668e-08\n",
            "Epoch 15/100\n",
            "31/31 [==============================] - 0s 1ms/step - loss: 71.5601 - lr: 5.0119e-08\n",
            "Epoch 16/100\n",
            "31/31 [==============================] - 0s 1ms/step - loss: 71.1485 - lr: 5.6234e-08\n",
            "Epoch 17/100\n",
            "31/31 [==============================] - 0s 1ms/step - loss: 70.9129 - lr: 6.3096e-08\n",
            "Epoch 18/100\n",
            "31/31 [==============================] - 0s 1ms/step - loss: 70.6132 - lr: 7.0795e-08\n",
            "Epoch 19/100\n",
            "31/31 [==============================] - 0s 1ms/step - loss: 70.3070 - lr: 7.9433e-08\n",
            "Epoch 20/100\n",
            "31/31 [==============================] - 0s 1ms/step - loss: 70.0376 - lr: 8.9125e-08\n",
            "Epoch 21/100\n",
            "31/31 [==============================] - 0s 1ms/step - loss: 69.6554 - lr: 1.0000e-07\n",
            "Epoch 22/100\n",
            "31/31 [==============================] - 0s 2ms/step - loss: 69.3385 - lr: 1.1220e-07\n",
            "Epoch 23/100\n",
            "31/31 [==============================] - 0s 2ms/step - loss: 68.8436 - lr: 1.2589e-07\n",
            "Epoch 24/100\n",
            "31/31 [==============================] - 0s 2ms/step - loss: 68.4816 - lr: 1.4125e-07\n",
            "Epoch 25/100\n",
            "31/31 [==============================] - 0s 1ms/step - loss: 67.9511 - lr: 1.5849e-07\n",
            "Epoch 26/100\n",
            "31/31 [==============================] - 0s 2ms/step - loss: 67.4077 - lr: 1.7783e-07\n",
            "Epoch 27/100\n",
            "31/31 [==============================] - 0s 2ms/step - loss: 66.8397 - lr: 1.9953e-07\n",
            "Epoch 28/100\n",
            "31/31 [==============================] - 0s 1ms/step - loss: 66.4310 - lr: 2.2387e-07\n",
            "Epoch 29/100\n",
            "31/31 [==============================] - 0s 1ms/step - loss: 65.6345 - lr: 2.5119e-07\n",
            "Epoch 30/100\n",
            "31/31 [==============================] - 0s 1ms/step - loss: 64.8152 - lr: 2.8184e-07\n",
            "Epoch 31/100\n",
            "31/31 [==============================] - 0s 1ms/step - loss: 64.1608 - lr: 3.1623e-07\n",
            "Epoch 32/100\n",
            "31/31 [==============================] - 0s 2ms/step - loss: 63.4787 - lr: 3.5481e-07\n",
            "Epoch 33/100\n",
            "31/31 [==============================] - 0s 1ms/step - loss: 62.4545 - lr: 3.9811e-07\n",
            "Epoch 34/100\n",
            "31/31 [==============================] - 0s 1ms/step - loss: 61.4717 - lr: 4.4668e-07\n",
            "Epoch 35/100\n",
            "31/31 [==============================] - 0s 1ms/step - loss: 60.8230 - lr: 5.0119e-07\n",
            "Epoch 36/100\n",
            "31/31 [==============================] - 0s 1ms/step - loss: 59.8122 - lr: 5.6234e-07\n",
            "Epoch 37/100\n",
            "31/31 [==============================] - 0s 1ms/step - loss: 58.9016 - lr: 6.3096e-07\n",
            "Epoch 38/100\n",
            "31/31 [==============================] - 0s 1ms/step - loss: 58.3885 - lr: 7.0795e-07\n",
            "Epoch 39/100\n",
            "31/31 [==============================] - 0s 1ms/step - loss: 56.8358 - lr: 7.9433e-07\n",
            "Epoch 40/100\n",
            "31/31 [==============================] - 0s 1ms/step - loss: 56.1096 - lr: 8.9125e-07\n",
            "Epoch 41/100\n",
            "31/31 [==============================] - 0s 1ms/step - loss: 55.3461 - lr: 1.0000e-06\n",
            "Epoch 42/100\n",
            "31/31 [==============================] - 0s 1ms/step - loss: 55.0087 - lr: 1.1220e-06\n",
            "Epoch 43/100\n",
            "31/31 [==============================] - 0s 2ms/step - loss: 54.0790 - lr: 1.2589e-06\n",
            "Epoch 44/100\n",
            "31/31 [==============================] - 0s 2ms/step - loss: 53.5458 - lr: 1.4125e-06\n",
            "Epoch 45/100\n",
            "31/31 [==============================] - 0s 1ms/step - loss: 52.7307 - lr: 1.5849e-06\n",
            "Epoch 46/100\n",
            "31/31 [==============================] - 0s 2ms/step - loss: 51.8034 - lr: 1.7783e-06\n",
            "Epoch 47/100\n",
            "31/31 [==============================] - 0s 2ms/step - loss: 51.7263 - lr: 1.9953e-06\n",
            "Epoch 48/100\n",
            "31/31 [==============================] - 0s 1ms/step - loss: 50.5289 - lr: 2.2387e-06\n",
            "Epoch 49/100\n",
            "31/31 [==============================] - 0s 1ms/step - loss: 50.8845 - lr: 2.5119e-06\n",
            "Epoch 50/100\n",
            "31/31 [==============================] - 0s 1ms/step - loss: 52.0448 - lr: 2.8184e-06\n",
            "Epoch 51/100\n",
            "31/31 [==============================] - 0s 1ms/step - loss: 50.3265 - lr: 3.1623e-06\n",
            "Epoch 52/100\n",
            "31/31 [==============================] - 0s 1ms/step - loss: 49.4712 - lr: 3.5481e-06\n",
            "Epoch 53/100\n",
            "31/31 [==============================] - 0s 2ms/step - loss: 49.0348 - lr: 3.9811e-06\n",
            "Epoch 54/100\n",
            "31/31 [==============================] - 0s 2ms/step - loss: 48.1035 - lr: 4.4668e-06\n",
            "Epoch 55/100\n",
            "31/31 [==============================] - 0s 1ms/step - loss: 48.5668 - lr: 5.0119e-06\n",
            "Epoch 56/100\n",
            "31/31 [==============================] - 0s 2ms/step - loss: 48.4733 - lr: 5.6234e-06\n",
            "Epoch 57/100\n",
            "31/31 [==============================] - 0s 2ms/step - loss: 48.4727 - lr: 6.3096e-06\n",
            "Epoch 58/100\n",
            "31/31 [==============================] - 0s 2ms/step - loss: 47.0812 - lr: 7.0795e-06\n",
            "Epoch 59/100\n",
            "31/31 [==============================] - 0s 1ms/step - loss: 47.5113 - lr: 7.9433e-06\n",
            "Epoch 60/100\n",
            "31/31 [==============================] - 0s 1ms/step - loss: 46.5416 - lr: 8.9125e-06\n",
            "Epoch 61/100\n",
            "31/31 [==============================] - 0s 1ms/step - loss: 46.0355 - lr: 1.0000e-05\n",
            "Epoch 62/100\n",
            "31/31 [==============================] - 0s 2ms/step - loss: 58.6674 - lr: 1.1220e-05\n",
            "Epoch 63/100\n",
            "31/31 [==============================] - 0s 1ms/step - loss: 51.3067 - lr: 1.2589e-05\n",
            "Epoch 64/100\n",
            "31/31 [==============================] - 0s 2ms/step - loss: 46.4305 - lr: 1.4125e-05\n",
            "Epoch 65/100\n",
            "31/31 [==============================] - 0s 2ms/step - loss: 46.9603 - lr: 1.5849e-05\n",
            "Epoch 66/100\n",
            "31/31 [==============================] - 0s 1ms/step - loss: 44.6694 - lr: 1.7783e-05\n",
            "Epoch 67/100\n",
            "31/31 [==============================] - 0s 1ms/step - loss: 55.9189 - lr: 1.9953e-05\n",
            "Epoch 68/100\n",
            "31/31 [==============================] - 0s 1ms/step - loss: 55.9074 - lr: 2.2387e-05\n",
            "Epoch 69/100\n",
            "31/31 [==============================] - 0s 1ms/step - loss: 54.1227 - lr: 2.5119e-05\n",
            "Epoch 70/100\n",
            "31/31 [==============================] - 0s 1ms/step - loss: 58.8764 - lr: 2.8184e-05\n",
            "Epoch 71/100\n",
            "31/31 [==============================] - 0s 1ms/step - loss: 60.2863 - lr: 3.1623e-05\n",
            "Epoch 72/100\n",
            "31/31 [==============================] - 0s 1ms/step - loss: 48.4843 - lr: 3.5481e-05\n",
            "Epoch 73/100\n",
            "31/31 [==============================] - 0s 1ms/step - loss: 54.5668 - lr: 3.9811e-05\n",
            "Epoch 74/100\n",
            "31/31 [==============================] - 0s 2ms/step - loss: 61.5628 - lr: 4.4668e-05\n",
            "Epoch 75/100\n",
            "31/31 [==============================] - 0s 2ms/step - loss: 68.3237 - lr: 5.0119e-05\n",
            "Epoch 76/100\n",
            "31/31 [==============================] - 0s 2ms/step - loss: 77.5086 - lr: 5.6234e-05\n",
            "Epoch 77/100\n",
            "31/31 [==============================] - 0s 1ms/step - loss: 53.9552 - lr: 6.3096e-05\n",
            "Epoch 78/100\n",
            "31/31 [==============================] - 0s 1ms/step - loss: 198.7865 - lr: 7.0795e-05\n",
            "Epoch 79/100\n",
            "31/31 [==============================] - 0s 2ms/step - loss: 2050.6763 - lr: 7.9433e-05\n",
            "Epoch 80/100\n",
            "31/31 [==============================] - 0s 1ms/step - loss: 2110.7075 - lr: 8.9125e-05\n",
            "Epoch 81/100\n",
            "31/31 [==============================] - 0s 2ms/step - loss: 1925.5190 - lr: 1.0000e-04\n",
            "Epoch 82/100\n",
            "31/31 [==============================] - 0s 2ms/step - loss: 1745.3842 - lr: 1.1220e-04\n",
            "Epoch 83/100\n",
            "31/31 [==============================] - 0s 2ms/step - loss: 1568.8313 - lr: 1.2589e-04\n",
            "Epoch 84/100\n",
            "31/31 [==============================] - 0s 2ms/step - loss: 1398.6163 - lr: 1.4125e-04\n",
            "Epoch 85/100\n",
            "31/31 [==============================] - 0s 2ms/step - loss: 1237.0592 - lr: 1.5849e-04\n",
            "Epoch 86/100\n",
            "31/31 [==============================] - 0s 2ms/step - loss: 1088.0278 - lr: 1.7783e-04\n",
            "Epoch 87/100\n",
            "31/31 [==============================] - 0s 1ms/step - loss: 953.3056 - lr: 1.9953e-04\n",
            "Epoch 88/100\n",
            "31/31 [==============================] - 0s 1ms/step - loss: 831.6336 - lr: 2.2387e-04\n",
            "Epoch 89/100\n",
            "31/31 [==============================] - 0s 1ms/step - loss: 727.9986 - lr: 2.5119e-04\n",
            "Epoch 90/100\n",
            "31/31 [==============================] - 0s 2ms/step - loss: 647.8916 - lr: 2.8184e-04\n",
            "Epoch 91/100\n",
            "31/31 [==============================] - 0s 1ms/step - loss: 588.4111 - lr: 3.1623e-04\n",
            "Epoch 92/100\n",
            "31/31 [==============================] - 0s 2ms/step - loss: 536.1295 - lr: 3.5481e-04\n",
            "Epoch 93/100\n",
            "31/31 [==============================] - 0s 2ms/step - loss: 498.4949 - lr: 3.9811e-04\n",
            "Epoch 94/100\n",
            "31/31 [==============================] - 0s 2ms/step - loss: 498.5390 - lr: 4.4668e-04\n",
            "Epoch 95/100\n",
            "31/31 [==============================] - 0s 2ms/step - loss: 462.8893 - lr: 5.0119e-04\n",
            "Epoch 96/100\n",
            "31/31 [==============================] - 0s 2ms/step - loss: 452.9712 - lr: 5.6234e-04\n",
            "Epoch 97/100\n",
            "31/31 [==============================] - 0s 1ms/step - loss: 448.7224 - lr: 6.3096e-04\n",
            "Epoch 98/100\n",
            "31/31 [==============================] - 0s 2ms/step - loss: 446.3335 - lr: 7.0795e-04\n",
            "Epoch 99/100\n",
            "31/31 [==============================] - 0s 2ms/step - loss: 445.7270 - lr: 7.9433e-04\n",
            "Epoch 100/100\n",
            "31/31 [==============================] - 0s 2ms/step - loss: 445.2753 - lr: 8.9125e-04\n"
          ]
        }
      ],
      "source": [
        "# Train the model\n",
        "history = model_tune.fit(dataset, epochs=100, callbacks=[lr_schedule])"
      ]
    },
    {
      "cell_type": "markdown",
      "metadata": {
        "id": "Sz9yLyRkkuet"
      },
      "source": [
        "Next step is to plot the results of the training. You will visualize the loss at each value of the learning rate."
      ]
    },
    {
      "cell_type": "code",
      "execution_count": 17,
      "metadata": {
        "id": "2ZaNsM2IgCd_",
        "colab": {
          "base_uri": "https://localhost:8080/",
          "height": 405
        },
        "outputId": "43a9bc3a-c5cb-4feb-83d0-2134f48e8926"
      },
      "outputs": [
        {
          "output_type": "execute_result",
          "data": {
            "text/plain": [
              "(1e-08, 0.001, 0.0, 300.0)"
            ]
          },
          "metadata": {},
          "execution_count": 17
        },
        {
          "output_type": "display_data",
          "data": {
            "text/plain": [
              "<Figure size 720x432 with 1 Axes>"
            ],
            "image/png": "[encoded data removed]"
          },
          "metadata": {
            "needs_background": "light"
          }
        }
      ],
      "source": [
        "# Define the learning rate array\n",
        "lrs = 1e-8 * (10 ** (np.arange(100) / 20))\n",
        "\n",
        "# Set the figure size\n",
        "plt.figure(figsize=(10, 6))\n",
        "\n",
        "# Set the grid\n",
        "plt.grid(True)\n",
        "\n",
        "# Plot the loss in log scale\n",
        "plt.semilogx(lrs, history.history[\"loss\"])\n",
        "\n",
        "# Increase the tickmarks size\n",
        "plt.tick_params('both', length=10, width=1, which='both')\n",
        "\n",
        "# Set the plot boundaries\n",
        "plt.axis([1e-8, 1e-3, 0, 300])"
      ]
    },
    {
      "cell_type": "markdown",
      "metadata": {
        "id": "obCq2g0qn0GD"
      },
      "source": [
        "The generated graph above shows the values of the range of learning rates that leads to lower losses (i.e. sloping downward) and also which ones cause the training to become unstable (i.e. jagged edges and pointing upwards). In general, you will want to pick a point in a downward slope. That means the network is still learning at that point and is stable. Choosing close to the minimum point of the graph will make the training converge to that loss value quicker, as will be shown in the next cells.\n",
        "\n",
        "First, you will initialize the same model architecture again."
      ]
    },
    {
      "cell_type": "code",
      "execution_count": 18,
      "metadata": {
        "id": "F7vzeS6BKUb_"
      },
      "outputs": [],
      "source": [
        "# Build the model\n",
        "model_tune = tf.keras.models.Sequential([\n",
        "  tf.keras.layers.Dense(10, activation=\"relu\", input_shape=[window_size]),\n",
        "  tf.keras.layers.Dense(10, activation=\"relu\"),\n",
        "  tf.keras.layers.Dense(1)\n",
        "])"
      ]
    },
    {
      "cell_type": "markdown",
      "metadata": {
        "id": "9gjrVfgWp3ku"
      },
      "source": [
        "You will then set the optimizer with a learning rate close to the minimum. It is set to `4e-6` initially but feel free to change based on your results."
      ]
    },
    {
      "cell_type": "code",
      "execution_count": 19,
      "metadata": {
        "id": "nVHuxnXMKjja"
      },
      "outputs": [],
      "source": [
        "# Set the optimizer with the tuned learning rate\n",
        "optimizer = tf.keras.optimizers.SGD(learning_rate=4e-6, momentum=0.9)"
      ]
    },
    {
      "cell_type": "markdown",
      "metadata": {
        "id": "pyrhSDU5qPn6"
      },
      "source": [
        "You can then compile and train the model as before. Observe the loss values and compare it to the output of the baseline model you had before. Most likely, you will have met the final loss value of the `model_baseline` within the first 50 epochs of training this `model_tune`. You will also likely have a lower loss after all 100 epochs are done."
      ]
    },
    {
      "cell_type": "code",
      "execution_count": 20,
      "metadata": {
        "id": "rDNeYqqzqQ-s",
        "colab": {
          "base_uri": "https://localhost:8080/"
        },
        "outputId": "3ad99fa1-cce9-429b-e7d9-aaadc71f1d97"
      },
      "outputs": [
        {
          "output_type": "stream",
          "name": "stdout",
          "text": [
            "Epoch 1/100\n",
            "31/31 [==============================] - 0s 2ms/step - loss: 308.7446\n",
            "Epoch 2/100\n",
            "31/31 [==============================] - 0s 1ms/step - loss: 98.2844\n",
            "Epoch 3/100\n",
            "31/31 [==============================] - 0s 1ms/step - loss: 78.4866\n",
            "Epoch 4/100\n",
            "31/31 [==============================] - 0s 1ms/step - loss: 66.2512\n",
            "Epoch 5/100\n",
            "31/31 [==============================] - 0s 2ms/step - loss: 64.1729\n",
            "Epoch 6/100\n",
            "31/31 [==============================] - 0s 1ms/step - loss: 57.1940\n",
            "Epoch 7/100\n",
            "31/31 [==============================] - 0s 1ms/step - loss: 52.8960\n",
            "Epoch 8/100\n",
            "31/31 [==============================] - 0s 2ms/step - loss: 51.8129\n",
            "Epoch 9/100\n",
            "31/31 [==============================] - 0s 1ms/step - loss: 51.1462\n",
            "Epoch 10/100\n",
            "31/31 [==============================] - 1s 5ms/step - loss: 53.6629\n",
            "Epoch 11/100\n",
            "31/31 [==============================] - 0s 1ms/step - loss: 50.4706\n",
            "Epoch 12/100\n",
            "31/31 [==============================] - 0s 1ms/step - loss: 51.3007\n",
            "Epoch 13/100\n",
            "31/31 [==============================] - 0s 3ms/step - loss: 53.1269\n",
            "Epoch 14/100\n",
            "31/31 [==============================] - 0s 2ms/step - loss: 47.6379\n",
            "Epoch 15/100\n",
            "31/31 [==============================] - 0s 2ms/step - loss: 49.4790\n",
            "Epoch 16/100\n",
            "31/31 [==============================] - 0s 6ms/step - loss: 49.4748\n",
            "Epoch 17/100\n",
            "31/31 [==============================] - 0s 1ms/step - loss: 47.3773\n",
            "Epoch 18/100\n",
            "31/31 [==============================] - 0s 1ms/step - loss: 46.0067\n",
            "Epoch 19/100\n",
            "31/31 [==============================] - 0s 2ms/step - loss: 45.1002\n",
            "Epoch 20/100\n",
            "31/31 [==============================] - 0s 1ms/step - loss: 45.6449\n",
            "Epoch 21/100\n",
            "31/31 [==============================] - 0s 1ms/step - loss: 47.9615\n",
            "Epoch 22/100\n",
            "31/31 [==============================] - 0s 1ms/step - loss: 45.0800\n",
            "Epoch 23/100\n",
            "31/31 [==============================] - 0s 1ms/step - loss: 45.9437\n",
            "Epoch 24/100\n",
            "31/31 [==============================] - 0s 2ms/step - loss: 44.4920\n",
            "Epoch 25/100\n",
            "31/31 [==============================] - 0s 1ms/step - loss: 43.8997\n",
            "Epoch 26/100\n",
            "31/31 [==============================] - 0s 1ms/step - loss: 43.9893\n",
            "Epoch 27/100\n",
            "31/31 [==============================] - 0s 1ms/step - loss: 43.3104\n",
            "Epoch 28/100\n",
            "31/31 [==============================] - 0s 1ms/step - loss: 43.7791\n",
            "Epoch 29/100\n",
            "31/31 [==============================] - 0s 1ms/step - loss: 44.1500\n",
            "Epoch 30/100\n",
            "31/31 [==============================] - 0s 2ms/step - loss: 43.9639\n",
            "Epoch 31/100\n",
            "31/31 [==============================] - 0s 2ms/step - loss: 43.9636\n",
            "Epoch 32/100\n",
            "31/31 [==============================] - 0s 1ms/step - loss: 46.3732\n",
            "Epoch 33/100\n",
            "31/31 [==============================] - 0s 1ms/step - loss: 44.8349\n",
            "Epoch 34/100\n",
            "31/31 [==============================] - 0s 2ms/step - loss: 43.6126\n",
            "Epoch 35/100\n",
            "31/31 [==============================] - 0s 2ms/step - loss: 43.2023\n",
            "Epoch 36/100\n",
            "31/31 [==============================] - 0s 1ms/step - loss: 43.2995\n",
            "Epoch 37/100\n",
            "31/31 [==============================] - 0s 1ms/step - loss: 42.9927\n",
            "Epoch 38/100\n",
            "31/31 [==============================] - 0s 2ms/step - loss: 42.1814\n",
            "Epoch 39/100\n",
            "31/31 [==============================] - 0s 1ms/step - loss: 43.3039\n",
            "Epoch 40/100\n",
            "31/31 [==============================] - 0s 1ms/step - loss: 44.7414\n",
            "Epoch 41/100\n",
            "31/31 [==============================] - 0s 1ms/step - loss: 42.0501\n",
            "Epoch 42/100\n",
            "31/31 [==============================] - 0s 2ms/step - loss: 42.8211\n",
            "Epoch 43/100\n",
            "31/31 [==============================] - 0s 2ms/step - loss: 42.4969\n",
            "Epoch 44/100\n",
            "31/31 [==============================] - 0s 2ms/step - loss: 43.1283\n",
            "Epoch 45/100\n",
            "31/31 [==============================] - 0s 2ms/step - loss: 41.9824\n",
            "Epoch 46/100\n",
            "31/31 [==============================] - 0s 1ms/step - loss: 42.1135\n",
            "Epoch 47/100\n",
            "31/31 [==============================] - 0s 1ms/step - loss: 41.3815\n",
            "Epoch 48/100\n",
            "31/31 [==============================] - 0s 1ms/step - loss: 43.2763\n",
            "Epoch 49/100\n",
            "31/31 [==============================] - 0s 1ms/step - loss: 41.8296\n",
            "Epoch 50/100\n",
            "31/31 [==============================] - 0s 2ms/step - loss: 42.2241\n",
            "Epoch 51/100\n",
            "31/31 [==============================] - 0s 2ms/step - loss: 41.0765\n",
            "Epoch 52/100\n",
            "31/31 [==============================] - 0s 2ms/step - loss: 41.6518\n",
            "Epoch 53/100\n",
            "31/31 [==============================] - 0s 2ms/step - loss: 42.0179\n",
            "Epoch 54/100\n",
            "31/31 [==============================] - 0s 1ms/step - loss: 41.0575\n",
            "Epoch 55/100\n",
            "31/31 [==============================] - 0s 1ms/step - loss: 41.4562\n",
            "Epoch 56/100\n",
            "31/31 [==============================] - 0s 1ms/step - loss: 43.2891\n",
            "Epoch 57/100\n",
            "31/31 [==============================] - 0s 2ms/step - loss: 40.9792\n",
            "Epoch 58/100\n",
            "31/31 [==============================] - 0s 2ms/step - loss: 40.7988\n",
            "Epoch 59/100\n",
            "31/31 [==============================] - 0s 1ms/step - loss: 40.8073\n",
            "Epoch 60/100\n",
            "31/31 [==============================] - 0s 1ms/step - loss: 39.9753\n",
            "Epoch 61/100\n",
            "31/31 [==============================] - 0s 2ms/step - loss: 40.4613\n",
            "Epoch 62/100\n",
            "31/31 [==============================] - 0s 1ms/step - loss: 40.8497\n",
            "Epoch 63/100\n",
            "31/31 [==============================] - 0s 1ms/step - loss: 41.0419\n",
            "Epoch 64/100\n",
            "31/31 [==============================] - 0s 1ms/step - loss: 40.3092\n",
            "Epoch 65/100\n",
            "31/31 [==============================] - 0s 1ms/step - loss: 40.5018\n",
            "Epoch 66/100\n",
            "31/31 [==============================] - 0s 1ms/step - loss: 39.8974\n",
            "Epoch 67/100\n",
            "31/31 [==============================] - 0s 2ms/step - loss: 40.9485\n",
            "Epoch 68/100\n",
            "31/31 [==============================] - 0s 1ms/step - loss: 40.4813\n",
            "Epoch 69/100\n",
            "31/31 [==============================] - 0s 1ms/step - loss: 40.3245\n",
            "Epoch 70/100\n",
            "31/31 [==============================] - 0s 1ms/step - loss: 40.0340\n",
            "Epoch 71/100\n",
            "31/31 [==============================] - 0s 1ms/step - loss: 40.1189\n",
            "Epoch 72/100\n",
            "31/31 [==============================] - 0s 2ms/step - loss: 39.8514\n",
            "Epoch 73/100\n",
            "31/31 [==============================] - 0s 1ms/step - loss: 39.7230\n",
            "Epoch 74/100\n",
            "31/31 [==============================] - 0s 2ms/step - loss: 39.5015\n",
            "Epoch 75/100\n",
            "31/31 [==============================] - 0s 1ms/step - loss: 41.5199\n",
            "Epoch 76/100\n",
            "31/31 [==============================] - 0s 2ms/step - loss: 39.7007\n",
            "Epoch 77/100\n",
            "31/31 [==============================] - 0s 1ms/step - loss: 39.8610\n",
            "Epoch 78/100\n",
            "31/31 [==============================] - 0s 2ms/step - loss: 39.7452\n",
            "Epoch 79/100\n",
            "31/31 [==============================] - 0s 1ms/step - loss: 39.3089\n",
            "Epoch 80/100\n",
            "31/31 [==============================] - 0s 1ms/step - loss: 39.3744\n",
            "Epoch 81/100\n",
            "31/31 [==============================] - 0s 1ms/step - loss: 39.2011\n",
            "Epoch 82/100\n",
            "31/31 [==============================] - 0s 1ms/step - loss: 39.4126\n",
            "Epoch 83/100\n",
            "31/31 [==============================] - 0s 1ms/step - loss: 39.1008\n",
            "Epoch 84/100\n",
            "31/31 [==============================] - 0s 1ms/step - loss: 39.3993\n",
            "Epoch 85/100\n",
            "31/31 [==============================] - 0s 2ms/step - loss: 39.3479\n",
            "Epoch 86/100\n",
            "31/31 [==============================] - 0s 2ms/step - loss: 39.5993\n",
            "Epoch 87/100\n",
            "31/31 [==============================] - 0s 1ms/step - loss: 38.8431\n",
            "Epoch 88/100\n",
            "31/31 [==============================] - 0s 1ms/step - loss: 39.4545\n",
            "Epoch 89/100\n",
            "31/31 [==============================] - 0s 1ms/step - loss: 38.9191\n",
            "Epoch 90/100\n",
            "31/31 [==============================] - 0s 1ms/step - loss: 38.9895\n",
            "Epoch 91/100\n",
            "31/31 [==============================] - 0s 2ms/step - loss: 39.1342\n",
            "Epoch 92/100\n",
            "31/31 [==============================] - 0s 1ms/step - loss: 40.9695\n",
            "Epoch 93/100\n",
            "31/31 [==============================] - 0s 1ms/step - loss: 39.6148\n",
            "Epoch 94/100\n",
            "31/31 [==============================] - 0s 1ms/step - loss: 40.4669\n",
            "Epoch 95/100\n",
            "31/31 [==============================] - 0s 1ms/step - loss: 39.2355\n",
            "Epoch 96/100\n",
            "31/31 [==============================] - 0s 2ms/step - loss: 39.4713\n",
            "Epoch 97/100\n",
            "31/31 [==============================] - 0s 1ms/step - loss: 38.6058\n",
            "Epoch 98/100\n",
            "31/31 [==============================] - 0s 1ms/step - loss: 39.6800\n",
            "Epoch 99/100\n",
            "31/31 [==============================] - 0s 2ms/step - loss: 39.1023\n",
            "Epoch 100/100\n",
            "31/31 [==============================] - 0s 1ms/step - loss: 39.1933\n"
          ]
        }
      ],
      "source": [
        "# Set the training parameters\n",
        "model_tune.compile(loss=\"mse\", optimizer=optimizer)\n",
        "\n",
        "# Train the model\n",
        "history = model_tune.fit(dataset, epochs=100)"
      ]
    },
    {
      "cell_type": "markdown",
      "metadata": {
        "id": "8W-zX3LCrZc2"
      },
      "source": [
        "You can plot the `loss` values by getting it from the [History](https://www.tensorflow.org/api_docs/python/tf/keras/callbacks/History) object returned by the `fit()` method. As you can see, the model is still trending downward after the training."
      ]
    },
    {
      "cell_type": "code",
      "execution_count": 21,
      "metadata": {
        "id": "iXBMO1HM9AHX",
        "colab": {
          "base_uri": "https://localhost:8080/",
          "height": 265
        },
        "outputId": "6f84d198-6cd8-415f-a957-6dc96fdb146d"
      },
      "outputs": [
        {
          "output_type": "display_data",
          "data": {
            "text/plain": [
              "<Figure size 432x288 with 1 Axes>"
            ],
            "image/png": "[encoded data removed]"
          },
          "metadata": {
            "needs_background": "light"
          }
        }
      ],
      "source": [
        "# Plot the loss\n",
        "loss = history.history['loss']\n",
        "epochs = range(len(loss))\n",
        "plt.plot(epochs, loss, 'b', label='Training Loss')\n",
        "plt.show()"
      ]
    },
    {
      "cell_type": "code",
      "execution_count": 22,
      "metadata": {
        "id": "xakiRU7R7WAo",
        "colab": {
          "base_uri": "https://localhost:8080/",
          "height": 265
        },
        "outputId": "923603c4-03b2-4739-8347-dd6ab9c41a91"
      },
      "outputs": [
        {
          "output_type": "display_data",
          "data": {
            "text/plain": [
              "<Figure size 432x288 with 1 Axes>"
            ],
            "image/png": "[encoded data removed]"
          },
          "metadata": {
            "needs_background": "light"
          }
        }
      ],
      "source": [
        "# Plot all but the first 10\n",
        "loss = history.history['loss']\n",
        "epochs = range(10, len(loss))\n",
        "plot_loss = loss[10:]\n",
        "plt.plot(epochs, plot_loss, 'b', label='Training Loss')\n",
        "plt.show()"
      ]
    },
    {
      "cell_type": "markdown",
      "metadata": {
        "id": "XxDbVYFusI3O"
      },
      "source": [
        "You can get the preictions again and overlay it on the validation set."
      ]
    },
    {
      "cell_type": "code",
      "execution_count": 23,
      "metadata": {
        "id": "mIi2fTzPTJxe",
        "colab": {
          "base_uri": "https://localhost:8080/",
          "height": 388
        },
        "outputId": "00ceee7a-b8be-4219-bafd-049f808a25e9"
      },
      "outputs": [
        {
          "output_type": "display_data",
          "data": {
            "text/plain": [
              "<Figure size 720x432 with 1 Axes>"
            ],
            "image/png": "[encoded data removed]"
          },
          "metadata": {
            "needs_background": "light"
          }
        }
      ],
      "source": [
        "# Initialize a list\n",
        "forecast = []\n",
        "\n",
        "# Reduce the original series\n",
        "forecast_series = series[split_time - window_size:]\n",
        "\n",
        "# Use the model to predict data points per window size\n",
        "for time in range(len(forecast_series) - window_size):\n",
        "  forecast.append(model_tune.predict(forecast_series[time:time + window_size][np.newaxis]))\n",
        "\n",
        "# Convert to a numpy array and drop single dimensional axes\n",
        "results = np.array(forecast).squeeze()\n",
        "\n",
        "# Plot the results\n",
        "plot_series(time_valid, (x_valid, results))"
      ]
    },
    {
      "cell_type": "markdown",
      "metadata": {
        "id": "KExPe7qJsTxk"
      },
      "source": [
        "Finally, you can compute the metrics and you should arrive at similar figures compared to the baseline. If it is much worse, then the model might have overfitted and you can use techniques you know to avoid it (e.g. adding dropout)."
      ]
    },
    {
      "cell_type": "code",
      "execution_count": 24,
      "metadata": {
        "id": "W-GPjL2wv0yc",
        "colab": {
          "base_uri": "https://localhost:8080/"
        },
        "outputId": "347cce1a-9668-4d6b-f39f-927fc5afb23d"
      },
      "outputs": [
        {
          "output_type": "stream",
          "name": "stdout",
          "text": [
            "45.883717\n",
            "4.9487724\n"
          ]
        }
      ],
      "source": [
        "print(tf.keras.metrics.mean_squared_error(x_valid, results).numpy())\n",
        "print(tf.keras.metrics.mean_absolute_error(x_valid, results).numpy())"
      ]
    },
    {
      "cell_type": "markdown",
      "metadata": {
        "id": "U9ViZ1Mcs11C"
      },
      "source": [
        "## Wrap Up\n",
        "\n",
        "This concludes the exercise on using a deep neural network for forecasting. Along the way, you did some hyperparameter tuning, particularly on the learning rate. You will be using this technique as well in the next labs. Next week, you will be using recurrent neural networks to build your forecasting model. See you there and keep it up!"
      ]
    }
  ],
  "metadata": {
    "colab": {
      "collapsed_sections": [],
      "name": "C4_W2_Lab_3_deep_NN.ipynb",
      "provenance": [],
      "include_colab_link": true
    },
    "kernelspec": {
      "display_name": "Python 3",
      "language": "python",
      "name": "python3"
    },
    "language_info": {
      "codemirror_mode": {
        "name": "ipython",
        "version": 3
      },
      "file_extension": ".py",
      "mimetype": "text/x-python",
      "name": "python",
      "nbconvert_exporter": "python",
      "pygments_lexer": "ipython3",
      "version": "3.7.4"
    },
    "gpuClass": "standard"
  },
  "nbformat": 4,
  "nbformat_minor": 0
}