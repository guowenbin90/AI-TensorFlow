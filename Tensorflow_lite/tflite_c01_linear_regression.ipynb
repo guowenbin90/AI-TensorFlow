{
  "cells": [
    {
      "cell_type": "markdown",
      "metadata": {
        "id": "Za8-Nr5k11fh"
      },
      "source": [
        "##### Copyright 2018 The TensorFlow Authors."
      ]
    },
    {
      "cell_type": "code",
      "execution_count": 1,
      "metadata": {
        "cellView": "form",
        "id": "Eq10uEbw0E4l"
      },
      "outputs": [],
      "source": [
        "#@title Licensed under the Apache License, Version 2.0 (the \"License\");\n",
        "# you may not use this file except in compliance with the License.\n",
        "# You may obtain a copy of the License at\n",
        "#\n",
        "# https://www.apache.org/licenses/LICENSE-2.0\n",
        "#\n",
        "# Unless required by applicable law or agreed to in writing, software\n",
        "# distributed under the License is distributed on an \"AS IS\" BASIS,\n",
        "# WITHOUT WARRANTIES OR CONDITIONS OF ANY KIND, either express or implied.\n",
        "# See the License for the specific language governing permissions and\n",
        "# limitations under the License."
      ]
    },
    {
      "cell_type": "markdown",
      "metadata": {
        "id": "UysiGN3tGQHY"
      },
      "source": [
        "# Running TFLite models"
      ]
    },
    {
      "cell_type": "markdown",
      "metadata": {
        "id": "2hOrvdmswy5O"
      },
      "source": [
        "<table class=\"tfo-notebook-buttons\" align=\"left\">\n",
        "  <td>\n",
        "    <a target=\"_blank\" href=\"https://colab.research.google.com/github/tensorflow/examples/blob/master/courses/udacity_intro_to_tensorflow_lite/tflite_c01_linear_regression.ipynb\">\n",
        "    <img src=\"https://www.tensorflow.org/images/colab_logo_32px.png\" />\n",
        "    Run in Google Colab</a>\n",
        "  </td>\n",
        "  <td>\n",
        "    <a target=\"_blank\" href=\"https://github.com/tensorflow/examples/blob/master/courses/udacity_intro_to_tensorflow_lite/tflite_c01_linear_regression.ipynb\">\n",
        "    <img src=\"https://www.tensorflow.org/images/GitHub-Mark-32px.png\" />\n",
        "    View source on GitHub</a>\n",
        "  </td>\n",
        "</table>"
      ]
    },
    {
      "cell_type": "markdown",
      "metadata": {
        "id": "W-VhTkyTGcaQ"
      },
      "source": [
        "## Setup"
      ]
    },
    {
      "cell_type": "code",
      "execution_count": 2,
      "metadata": {
        "id": "dy4BcTjBFTWx"
      },
      "outputs": [],
      "source": [
        "import tensorflow as tf\n",
        "\n",
        "import pathlib\n",
        "import numpy as np\n",
        "import matplotlib.pyplot as plt\n",
        "\n",
        "from tensorflow.keras.models import Model\n",
        "from tensorflow.keras.layers import Input"
      ]
    },
    {
      "cell_type": "markdown",
      "metadata": {
        "id": "ceibQLDeGhI4"
      },
      "source": [
        "## Create a basic model of the form y = mx + c"
      ]
    },
    {
      "cell_type": "code",
      "execution_count": 3,
      "metadata": {
        "id": "YIBCsjQNF46Z",
        "outputId": "3c7de987-a76a-43f7-f1f3-f286dc541ad2",
        "colab": {
          "base_uri": "https://localhost:8080/"
        }
      },
      "outputs": [
        {
          "output_type": "stream",
          "name": "stdout",
          "text": [
            "Epoch 1/200\n",
            "1/1 [==============================] - 3s 3s/step - loss: 18.4412\n",
            "Epoch 2/200\n",
            "1/1 [==============================] - 0s 10ms/step - loss: 14.7671\n",
            "Epoch 3/200\n",
            "1/1 [==============================] - 0s 20ms/step - loss: 11.8711\n",
            "Epoch 4/200\n",
            "1/1 [==============================] - 0s 29ms/step - loss: 9.5876\n",
            "Epoch 5/200\n",
            "1/1 [==============================] - 0s 28ms/step - loss: 7.7859\n",
            "Epoch 6/200\n",
            "1/1 [==============================] - 0s 14ms/step - loss: 6.3634\n",
            "Epoch 7/200\n",
            "1/1 [==============================] - 0s 45ms/step - loss: 5.2394\n",
            "Epoch 8/200\n",
            "1/1 [==============================] - 0s 30ms/step - loss: 4.3503\n",
            "Epoch 9/200\n",
            "1/1 [==============================] - 0s 15ms/step - loss: 3.6461\n",
            "Epoch 10/200\n",
            "1/1 [==============================] - 0s 10ms/step - loss: 3.0874\n",
            "Epoch 11/200\n",
            "1/1 [==============================] - 0s 25ms/step - loss: 2.6434\n",
            "Epoch 12/200\n",
            "1/1 [==============================] - 0s 28ms/step - loss: 2.2897\n",
            "Epoch 13/200\n",
            "1/1 [==============================] - 0s 17ms/step - loss: 2.0071\n",
            "Epoch 14/200\n",
            "1/1 [==============================] - 0s 15ms/step - loss: 1.7806\n",
            "Epoch 15/200\n",
            "1/1 [==============================] - 0s 24ms/step - loss: 1.5982\n",
            "Epoch 16/200\n",
            "1/1 [==============================] - 0s 12ms/step - loss: 1.4506\n",
            "Epoch 17/200\n",
            "1/1 [==============================] - 0s 14ms/step - loss: 1.3306\n",
            "Epoch 18/200\n",
            "1/1 [==============================] - 0s 46ms/step - loss: 1.2323\n",
            "Epoch 19/200\n",
            "1/1 [==============================] - 0s 18ms/step - loss: 1.1511\n",
            "Epoch 20/200\n",
            "1/1 [==============================] - 0s 35ms/step - loss: 1.0835\n",
            "Epoch 21/200\n",
            "1/1 [==============================] - 0s 11ms/step - loss: 1.0266\n",
            "Epoch 22/200\n",
            "1/1 [==============================] - 0s 14ms/step - loss: 0.9784\n",
            "Epoch 23/200\n",
            "1/1 [==============================] - 0s 30ms/step - loss: 0.9369\n",
            "Epoch 24/200\n",
            "1/1 [==============================] - 0s 9ms/step - loss: 0.9008\n",
            "Epoch 25/200\n",
            "1/1 [==============================] - 0s 11ms/step - loss: 0.8690\n",
            "Epoch 26/200\n",
            "1/1 [==============================] - 0s 12ms/step - loss: 0.8407\n",
            "Epoch 27/200\n",
            "1/1 [==============================] - 0s 18ms/step - loss: 0.8153\n",
            "Epoch 28/200\n",
            "1/1 [==============================] - 0s 38ms/step - loss: 0.7921\n",
            "Epoch 29/200\n",
            "1/1 [==============================] - 0s 35ms/step - loss: 0.7707\n",
            "Epoch 30/200\n",
            "1/1 [==============================] - 0s 11ms/step - loss: 0.7509\n",
            "Epoch 31/200\n",
            "1/1 [==============================] - 0s 9ms/step - loss: 0.7323\n",
            "Epoch 32/200\n",
            "1/1 [==============================] - 0s 15ms/step - loss: 0.7148\n",
            "Epoch 33/200\n",
            "1/1 [==============================] - 0s 26ms/step - loss: 0.6982\n",
            "Epoch 34/200\n",
            "1/1 [==============================] - 0s 14ms/step - loss: 0.6823\n",
            "Epoch 35/200\n",
            "1/1 [==============================] - 0s 17ms/step - loss: 0.6671\n",
            "Epoch 36/200\n",
            "1/1 [==============================] - 0s 31ms/step - loss: 0.6525\n",
            "Epoch 37/200\n",
            "1/1 [==============================] - 0s 34ms/step - loss: 0.6383\n",
            "Epoch 38/200\n",
            "1/1 [==============================] - 0s 38ms/step - loss: 0.6246\n",
            "Epoch 39/200\n",
            "1/1 [==============================] - 0s 35ms/step - loss: 0.6113\n",
            "Epoch 40/200\n",
            "1/1 [==============================] - 0s 41ms/step - loss: 0.5984\n",
            "Epoch 41/200\n",
            "1/1 [==============================] - 0s 23ms/step - loss: 0.5858\n",
            "Epoch 42/200\n",
            "1/1 [==============================] - 0s 16ms/step - loss: 0.5736\n",
            "Epoch 43/200\n",
            "1/1 [==============================] - 0s 25ms/step - loss: 0.5616\n",
            "Epoch 44/200\n",
            "1/1 [==============================] - 0s 17ms/step - loss: 0.5499\n",
            "Epoch 45/200\n",
            "1/1 [==============================] - 0s 16ms/step - loss: 0.5385\n",
            "Epoch 46/200\n",
            "1/1 [==============================] - 0s 11ms/step - loss: 0.5274\n",
            "Epoch 47/200\n",
            "1/1 [==============================] - 0s 24ms/step - loss: 0.5165\n",
            "Epoch 48/200\n",
            "1/1 [==============================] - 0s 22ms/step - loss: 0.5058\n",
            "Epoch 49/200\n",
            "1/1 [==============================] - 0s 21ms/step - loss: 0.4954\n",
            "Epoch 50/200\n",
            "1/1 [==============================] - 0s 17ms/step - loss: 0.4852\n",
            "Epoch 51/200\n",
            "1/1 [==============================] - 0s 13ms/step - loss: 0.4752\n",
            "Epoch 52/200\n",
            "1/1 [==============================] - 0s 9ms/step - loss: 0.4654\n",
            "Epoch 53/200\n",
            "1/1 [==============================] - 0s 14ms/step - loss: 0.4558\n",
            "Epoch 54/200\n",
            "1/1 [==============================] - 0s 7ms/step - loss: 0.4465\n",
            "Epoch 55/200\n",
            "1/1 [==============================] - 0s 15ms/step - loss: 0.4373\n",
            "Epoch 56/200\n",
            "1/1 [==============================] - 0s 26ms/step - loss: 0.4283\n",
            "Epoch 57/200\n",
            "1/1 [==============================] - 0s 10ms/step - loss: 0.4195\n",
            "Epoch 58/200\n",
            "1/1 [==============================] - 0s 14ms/step - loss: 0.4109\n",
            "Epoch 59/200\n",
            "1/1 [==============================] - 0s 11ms/step - loss: 0.4024\n",
            "Epoch 60/200\n",
            "1/1 [==============================] - 0s 28ms/step - loss: 0.3941\n",
            "Epoch 61/200\n",
            "1/1 [==============================] - 0s 20ms/step - loss: 0.3861\n",
            "Epoch 62/200\n",
            "1/1 [==============================] - 0s 11ms/step - loss: 0.3781\n",
            "Epoch 63/200\n",
            "1/1 [==============================] - 0s 14ms/step - loss: 0.3704\n",
            "Epoch 64/200\n",
            "1/1 [==============================] - 0s 16ms/step - loss: 0.3627\n",
            "Epoch 65/200\n",
            "1/1 [==============================] - 0s 10ms/step - loss: 0.3553\n",
            "Epoch 66/200\n",
            "1/1 [==============================] - 0s 14ms/step - loss: 0.3480\n",
            "Epoch 67/200\n",
            "1/1 [==============================] - 0s 21ms/step - loss: 0.3408\n",
            "Epoch 68/200\n",
            "1/1 [==============================] - 0s 10ms/step - loss: 0.3338\n",
            "Epoch 69/200\n",
            "1/1 [==============================] - 0s 31ms/step - loss: 0.3270\n",
            "Epoch 70/200\n",
            "1/1 [==============================] - 0s 17ms/step - loss: 0.3203\n",
            "Epoch 71/200\n",
            "1/1 [==============================] - 0s 37ms/step - loss: 0.3137\n",
            "Epoch 72/200\n",
            "1/1 [==============================] - 0s 12ms/step - loss: 0.3072\n",
            "Epoch 73/200\n",
            "1/1 [==============================] - 0s 8ms/step - loss: 0.3009\n",
            "Epoch 74/200\n",
            "1/1 [==============================] - 0s 33ms/step - loss: 0.2948\n",
            "Epoch 75/200\n",
            "1/1 [==============================] - 0s 42ms/step - loss: 0.2887\n",
            "Epoch 76/200\n",
            "1/1 [==============================] - 0s 12ms/step - loss: 0.2828\n",
            "Epoch 77/200\n",
            "1/1 [==============================] - 0s 33ms/step - loss: 0.2770\n",
            "Epoch 78/200\n",
            "1/1 [==============================] - 0s 10ms/step - loss: 0.2713\n",
            "Epoch 79/200\n",
            "1/1 [==============================] - 0s 28ms/step - loss: 0.2657\n",
            "Epoch 80/200\n",
            "1/1 [==============================] - 0s 24ms/step - loss: 0.2602\n",
            "Epoch 81/200\n",
            "1/1 [==============================] - 0s 52ms/step - loss: 0.2549\n",
            "Epoch 82/200\n",
            "1/1 [==============================] - 0s 26ms/step - loss: 0.2497\n",
            "Epoch 83/200\n",
            "1/1 [==============================] - 0s 30ms/step - loss: 0.2445\n",
            "Epoch 84/200\n",
            "1/1 [==============================] - 0s 25ms/step - loss: 0.2395\n",
            "Epoch 85/200\n",
            "1/1 [==============================] - 0s 9ms/step - loss: 0.2346\n",
            "Epoch 86/200\n",
            "1/1 [==============================] - 0s 8ms/step - loss: 0.2298\n",
            "Epoch 87/200\n",
            "1/1 [==============================] - 0s 7ms/step - loss: 0.2251\n",
            "Epoch 88/200\n",
            "1/1 [==============================] - 0s 7ms/step - loss: 0.2204\n",
            "Epoch 89/200\n",
            "1/1 [==============================] - 0s 11ms/step - loss: 0.2159\n",
            "Epoch 90/200\n",
            "1/1 [==============================] - 0s 8ms/step - loss: 0.2115\n",
            "Epoch 91/200\n",
            "1/1 [==============================] - 0s 7ms/step - loss: 0.2071\n",
            "Epoch 92/200\n",
            "1/1 [==============================] - 0s 7ms/step - loss: 0.2029\n",
            "Epoch 93/200\n",
            "1/1 [==============================] - 0s 11ms/step - loss: 0.1987\n",
            "Epoch 94/200\n",
            "1/1 [==============================] - 0s 14ms/step - loss: 0.1946\n",
            "Epoch 95/200\n",
            "1/1 [==============================] - 0s 7ms/step - loss: 0.1906\n",
            "Epoch 96/200\n",
            "1/1 [==============================] - 0s 10ms/step - loss: 0.1867\n",
            "Epoch 97/200\n",
            "1/1 [==============================] - 0s 13ms/step - loss: 0.1829\n",
            "Epoch 98/200\n",
            "1/1 [==============================] - 0s 7ms/step - loss: 0.1791\n",
            "Epoch 99/200\n",
            "1/1 [==============================] - 0s 10ms/step - loss: 0.1754\n",
            "Epoch 100/200\n",
            "1/1 [==============================] - 0s 7ms/step - loss: 0.1718\n",
            "Epoch 101/200\n",
            "1/1 [==============================] - 0s 6ms/step - loss: 0.1683\n",
            "Epoch 102/200\n",
            "1/1 [==============================] - 0s 10ms/step - loss: 0.1648\n",
            "Epoch 103/200\n",
            "1/1 [==============================] - 0s 7ms/step - loss: 0.1615\n",
            "Epoch 104/200\n",
            "1/1 [==============================] - 0s 7ms/step - loss: 0.1581\n",
            "Epoch 105/200\n",
            "1/1 [==============================] - 0s 16ms/step - loss: 0.1549\n",
            "Epoch 106/200\n",
            "1/1 [==============================] - 0s 7ms/step - loss: 0.1517\n",
            "Epoch 107/200\n",
            "1/1 [==============================] - 0s 11ms/step - loss: 0.1486\n",
            "Epoch 108/200\n",
            "1/1 [==============================] - 0s 6ms/step - loss: 0.1455\n",
            "Epoch 109/200\n",
            "1/1 [==============================] - 0s 7ms/step - loss: 0.1426\n",
            "Epoch 110/200\n",
            "1/1 [==============================] - 0s 14ms/step - loss: 0.1396\n",
            "Epoch 111/200\n",
            "1/1 [==============================] - 0s 6ms/step - loss: 0.1368\n",
            "Epoch 112/200\n",
            "1/1 [==============================] - 0s 13ms/step - loss: 0.1339\n",
            "Epoch 113/200\n",
            "1/1 [==============================] - 0s 10ms/step - loss: 0.1312\n",
            "Epoch 114/200\n",
            "1/1 [==============================] - 0s 7ms/step - loss: 0.1285\n",
            "Epoch 115/200\n",
            "1/1 [==============================] - 0s 10ms/step - loss: 0.1259\n",
            "Epoch 116/200\n",
            "1/1 [==============================] - 0s 12ms/step - loss: 0.1233\n",
            "Epoch 117/200\n",
            "1/1 [==============================] - 0s 10ms/step - loss: 0.1207\n",
            "Epoch 118/200\n",
            "1/1 [==============================] - 0s 12ms/step - loss: 0.1183\n",
            "Epoch 119/200\n",
            "1/1 [==============================] - 0s 9ms/step - loss: 0.1158\n",
            "Epoch 120/200\n",
            "1/1 [==============================] - 0s 7ms/step - loss: 0.1135\n",
            "Epoch 121/200\n",
            "1/1 [==============================] - 0s 7ms/step - loss: 0.1111\n",
            "Epoch 122/200\n",
            "1/1 [==============================] - 0s 11ms/step - loss: 0.1088\n",
            "Epoch 123/200\n",
            "1/1 [==============================] - 0s 15ms/step - loss: 0.1066\n",
            "Epoch 124/200\n",
            "1/1 [==============================] - 0s 6ms/step - loss: 0.1044\n",
            "Epoch 125/200\n",
            "1/1 [==============================] - 0s 7ms/step - loss: 0.1023\n",
            "Epoch 126/200\n",
            "1/1 [==============================] - 0s 7ms/step - loss: 0.1002\n",
            "Epoch 127/200\n",
            "1/1 [==============================] - 0s 15ms/step - loss: 0.0981\n",
            "Epoch 128/200\n",
            "1/1 [==============================] - 0s 12ms/step - loss: 0.0961\n",
            "Epoch 129/200\n",
            "1/1 [==============================] - 0s 9ms/step - loss: 0.0941\n",
            "Epoch 130/200\n",
            "1/1 [==============================] - 0s 14ms/step - loss: 0.0922\n",
            "Epoch 131/200\n",
            "1/1 [==============================] - 0s 10ms/step - loss: 0.0903\n",
            "Epoch 132/200\n",
            "1/1 [==============================] - 0s 7ms/step - loss: 0.0884\n",
            "Epoch 133/200\n",
            "1/1 [==============================] - 0s 9ms/step - loss: 0.0866\n",
            "Epoch 134/200\n",
            "1/1 [==============================] - 0s 11ms/step - loss: 0.0848\n",
            "Epoch 135/200\n",
            "1/1 [==============================] - 0s 6ms/step - loss: 0.0831\n",
            "Epoch 136/200\n",
            "1/1 [==============================] - 0s 7ms/step - loss: 0.0814\n",
            "Epoch 137/200\n",
            "1/1 [==============================] - 0s 10ms/step - loss: 0.0797\n",
            "Epoch 138/200\n",
            "1/1 [==============================] - 0s 14ms/step - loss: 0.0781\n",
            "Epoch 139/200\n",
            "1/1 [==============================] - 0s 7ms/step - loss: 0.0765\n",
            "Epoch 140/200\n",
            "1/1 [==============================] - 0s 7ms/step - loss: 0.0749\n",
            "Epoch 141/200\n",
            "1/1 [==============================] - 0s 9ms/step - loss: 0.0734\n",
            "Epoch 142/200\n",
            "1/1 [==============================] - 0s 7ms/step - loss: 0.0719\n",
            "Epoch 143/200\n",
            "1/1 [==============================] - 0s 7ms/step - loss: 0.0704\n",
            "Epoch 144/200\n",
            "1/1 [==============================] - 0s 7ms/step - loss: 0.0689\n",
            "Epoch 145/200\n",
            "1/1 [==============================] - 0s 10ms/step - loss: 0.0675\n",
            "Epoch 146/200\n",
            "1/1 [==============================] - 0s 8ms/step - loss: 0.0661\n",
            "Epoch 147/200\n",
            "1/1 [==============================] - 0s 6ms/step - loss: 0.0648\n",
            "Epoch 148/200\n",
            "1/1 [==============================] - 0s 7ms/step - loss: 0.0635\n",
            "Epoch 149/200\n",
            "1/1 [==============================] - 0s 6ms/step - loss: 0.0621\n",
            "Epoch 150/200\n",
            "1/1 [==============================] - 0s 9ms/step - loss: 0.0609\n",
            "Epoch 151/200\n",
            "1/1 [==============================] - 0s 12ms/step - loss: 0.0596\n",
            "Epoch 152/200\n",
            "1/1 [==============================] - 0s 7ms/step - loss: 0.0584\n",
            "Epoch 153/200\n",
            "1/1 [==============================] - 0s 12ms/step - loss: 0.0572\n",
            "Epoch 154/200\n",
            "1/1 [==============================] - 0s 11ms/step - loss: 0.0560\n",
            "Epoch 155/200\n",
            "1/1 [==============================] - 0s 9ms/step - loss: 0.0549\n",
            "Epoch 156/200\n",
            "1/1 [==============================] - 0s 15ms/step - loss: 0.0537\n",
            "Epoch 157/200\n",
            "1/1 [==============================] - 0s 7ms/step - loss: 0.0526\n",
            "Epoch 158/200\n",
            "1/1 [==============================] - 0s 13ms/step - loss: 0.0516\n",
            "Epoch 159/200\n",
            "1/1 [==============================] - 0s 15ms/step - loss: 0.0505\n",
            "Epoch 160/200\n",
            "1/1 [==============================] - 0s 10ms/step - loss: 0.0495\n",
            "Epoch 161/200\n",
            "1/1 [==============================] - 0s 6ms/step - loss: 0.0484\n",
            "Epoch 162/200\n",
            "1/1 [==============================] - 0s 13ms/step - loss: 0.0475\n",
            "Epoch 163/200\n",
            "1/1 [==============================] - 0s 7ms/step - loss: 0.0465\n",
            "Epoch 164/200\n",
            "1/1 [==============================] - 0s 9ms/step - loss: 0.0455\n",
            "Epoch 165/200\n",
            "1/1 [==============================] - 0s 7ms/step - loss: 0.0446\n",
            "Epoch 166/200\n",
            "1/1 [==============================] - 0s 7ms/step - loss: 0.0437\n",
            "Epoch 167/200\n",
            "1/1 [==============================] - 0s 7ms/step - loss: 0.0428\n",
            "Epoch 168/200\n",
            "1/1 [==============================] - 0s 7ms/step - loss: 0.0419\n",
            "Epoch 169/200\n",
            "1/1 [==============================] - 0s 7ms/step - loss: 0.0410\n",
            "Epoch 170/200\n",
            "1/1 [==============================] - 0s 15ms/step - loss: 0.0402\n",
            "Epoch 171/200\n",
            "1/1 [==============================] - 0s 7ms/step - loss: 0.0394\n",
            "Epoch 172/200\n",
            "1/1 [==============================] - 0s 9ms/step - loss: 0.0386\n",
            "Epoch 173/200\n",
            "1/1 [==============================] - 0s 10ms/step - loss: 0.0378\n",
            "Epoch 174/200\n",
            "1/1 [==============================] - 0s 12ms/step - loss: 0.0370\n",
            "Epoch 175/200\n",
            "1/1 [==============================] - 0s 8ms/step - loss: 0.0362\n",
            "Epoch 176/200\n",
            "1/1 [==============================] - 0s 11ms/step - loss: 0.0355\n",
            "Epoch 177/200\n",
            "1/1 [==============================] - 0s 8ms/step - loss: 0.0348\n",
            "Epoch 178/200\n",
            "1/1 [==============================] - 0s 12ms/step - loss: 0.0340\n",
            "Epoch 179/200\n",
            "1/1 [==============================] - 0s 14ms/step - loss: 0.0333\n",
            "Epoch 180/200\n",
            "1/1 [==============================] - 0s 7ms/step - loss: 0.0327\n",
            "Epoch 181/200\n",
            "1/1 [==============================] - 0s 7ms/step - loss: 0.0320\n",
            "Epoch 182/200\n",
            "1/1 [==============================] - 0s 8ms/step - loss: 0.0313\n",
            "Epoch 183/200\n",
            "1/1 [==============================] - 0s 6ms/step - loss: 0.0307\n",
            "Epoch 184/200\n",
            "1/1 [==============================] - 0s 13ms/step - loss: 0.0301\n",
            "Epoch 185/200\n",
            "1/1 [==============================] - 0s 10ms/step - loss: 0.0294\n",
            "Epoch 186/200\n",
            "1/1 [==============================] - 0s 8ms/step - loss: 0.0288\n",
            "Epoch 187/200\n",
            "1/1 [==============================] - 0s 9ms/step - loss: 0.0282\n",
            "Epoch 188/200\n",
            "1/1 [==============================] - 0s 10ms/step - loss: 0.0277\n",
            "Epoch 189/200\n",
            "1/1 [==============================] - 0s 11ms/step - loss: 0.0271\n",
            "Epoch 190/200\n",
            "1/1 [==============================] - 0s 13ms/step - loss: 0.0265\n",
            "Epoch 191/200\n",
            "1/1 [==============================] - 0s 7ms/step - loss: 0.0260\n",
            "Epoch 192/200\n",
            "1/1 [==============================] - 0s 11ms/step - loss: 0.0255\n",
            "Epoch 193/200\n",
            "1/1 [==============================] - 0s 8ms/step - loss: 0.0249\n",
            "Epoch 194/200\n",
            "1/1 [==============================] - 0s 7ms/step - loss: 0.0244\n",
            "Epoch 195/200\n",
            "1/1 [==============================] - 0s 8ms/step - loss: 0.0239\n",
            "Epoch 196/200\n",
            "1/1 [==============================] - 0s 12ms/step - loss: 0.0234\n",
            "Epoch 197/200\n",
            "1/1 [==============================] - 0s 7ms/step - loss: 0.0230\n",
            "Epoch 198/200\n",
            "1/1 [==============================] - 0s 9ms/step - loss: 0.0225\n",
            "Epoch 199/200\n",
            "1/1 [==============================] - 0s 7ms/step - loss: 0.0220\n",
            "Epoch 200/200\n",
            "1/1 [==============================] - 0s 7ms/step - loss: 0.0216\n"
          ]
        },
        {
          "output_type": "execute_result",
          "data": {
            "text/plain": [
              "<keras.callbacks.History at 0x7f82402a7550>"
            ]
          },
          "metadata": {},
          "execution_count": 3
        }
      ],
      "source": [
        "# Create a simple Keras model.\n",
        "x = [-1, 0, 1, 2, 3, 4]\n",
        "y = [-3, -1, 1, 3, 5, 7]\n",
        "\n",
        "model = tf.keras.models.Sequential([\n",
        "    tf.keras.layers.Dense(units=1, input_shape=[1])\n",
        "])\n",
        "model.compile(optimizer='sgd', loss='mean_squared_error')\n",
        "model.fit(x, y, epochs=200, verbose=1)"
      ]
    },
    {
      "cell_type": "markdown",
      "metadata": {
        "id": "EjsB-QICGt6L"
      },
      "source": [
        "## Generate a SavedModel"
      ]
    },
    {
      "cell_type": "code",
      "execution_count": 4,
      "metadata": {
        "id": "a9xcbK7QHOfm",
        "outputId": "bf079858-4c48-44db-9b0c-e9ec6ad24184",
        "colab": {
          "base_uri": "https://localhost:8080/"
        }
      },
      "outputs": [
        {
          "output_type": "stream",
          "name": "stdout",
          "text": [
            "INFO:tensorflow:Assets written to: saved_model/1/assets\n"
          ]
        }
      ],
      "source": [
        "export_dir = 'saved_model/1'\n",
        "tf.saved_model.save(model, export_dir)"
      ]
    },
    {
      "cell_type": "markdown",
      "metadata": {
        "id": "RRtsNwkiGxcO"
      },
      "source": [
        "## Convert the SavedModel to TFLite"
      ]
    },
    {
      "cell_type": "code",
      "execution_count": 5,
      "metadata": {
        "id": "TtM8yKTVTpD3",
        "outputId": "01f4f3eb-c09e-4340-b583-0725d230be48",
        "colab": {
          "base_uri": "https://localhost:8080/"
        }
      },
      "outputs": [
        {
          "output_type": "stream",
          "name": "stderr",
          "text": [
            "WARNING:absl:Buffer deduplication procedure will be skipped when flatbuffer library is not properly loaded\n"
          ]
        }
      ],
      "source": [
        "# Convert the model.\n",
        "converter = tf.lite.TFLiteConverter.from_saved_model(export_dir)\n",
        "tflite_model = converter.convert()"
      ]
    },
    {
      "cell_type": "code",
      "execution_count": 6,
      "metadata": {
        "id": "4idYulcNHTdO",
        "outputId": "2b92dd34-d39b-48cf-8944-5eb466d4b57e",
        "colab": {
          "base_uri": "https://localhost:8080/"
        }
      },
      "outputs": [
        {
          "output_type": "execute_result",
          "data": {
            "text/plain": [
              "888"
            ]
          },
          "metadata": {},
          "execution_count": 6
        }
      ],
      "source": [
        "tflite_model_file = pathlib.Path('model.tflite')\n",
        "tflite_model_file.write_bytes(tflite_model)"
      ]
    },
    {
      "cell_type": "markdown",
      "metadata": {
        "id": "HgGvp2yBG25Q"
      },
      "source": [
        "## Initialize the TFLite interpreter to try it out"
      ]
    },
    {
      "cell_type": "code",
      "execution_count": 7,
      "metadata": {
        "id": "DOt94wIWF8m7"
      },
      "outputs": [],
      "source": [
        "# Load TFLite model and allocate tensors.\n",
        "interpreter = tf.lite.Interpreter(model_content=tflite_model)\n",
        "interpreter.allocate_tensors()\n",
        "\n",
        "# Get input and output tensors.\n",
        "input_details = interpreter.get_input_details()\n",
        "output_details = interpreter.get_output_details()"
      ]
    },
    {
      "cell_type": "code",
      "execution_count": 8,
      "metadata": {
        "id": "JGYkEK08F8qK"
      },
      "outputs": [],
      "source": [
        "# Test the TensorFlow Lite model on random input data.\n",
        "input_shape = input_details[0]['shape']\n",
        "inputs, outputs = [], []\n",
        "for _ in range(100):\n",
        "  input_data = np.array(np.random.random_sample(input_shape), dtype=np.float32)\n",
        "  interpreter.set_tensor(input_details[0]['index'], input_data)\n",
        "\n",
        "  interpreter.invoke()\n",
        "  tflite_results = interpreter.get_tensor(output_details[0]['index'])\n",
        "\n",
        "  # Test the TensorFlow model on random input data.\n",
        "  tf_results = model(tf.constant(input_data))\n",
        "  output_data = np.array(tf_results)\n",
        "  \n",
        "  inputs.append(input_data[0][0])\n",
        "  outputs.append(output_data[0][0])"
      ]
    },
    {
      "cell_type": "markdown",
      "metadata": {
        "id": "t1gQGH1KWAgW"
      },
      "source": [
        "## Visualize the model"
      ]
    },
    {
      "cell_type": "code",
      "execution_count": 9,
      "metadata": {
        "id": "ccvQ1mEJVrqo",
        "outputId": "09e80f33-b0e1-4a30-f9ec-8c10fe9fbd30",
        "colab": {
          "base_uri": "https://localhost:8080/",
          "height": 265
        }
      },
      "outputs": [
        {
          "output_type": "display_data",
          "data": {
            "image/png": "[encoded data removed]",
            "text/plain": [
              "<Figure size 432x288 with 1 Axes>"
            ]
          },
          "metadata": {
            "needs_background": "light"
          }
        }
      ],
      "source": [
        "plt.plot(inputs, outputs, 'r')\n",
        "plt.show()"
      ]
    },
    {
      "cell_type": "markdown",
      "metadata": {
        "id": "WbugMH6yKvtd"
      },
      "source": [
        "## Download the TFLite model file"
      ]
    },
    {
      "cell_type": "code",
      "execution_count": 10,
      "metadata": {
        "id": "FOAIMETeJmkc",
        "outputId": "d3213f60-c88b-477c-9386-fccc10b00a13",
        "colab": {
          "base_uri": "https://localhost:8080/",
          "height": 17
        }
      },
      "outputs": [
        {
          "output_type": "display_data",
          "data": {
            "application/javascript": [
              "\n",
              "    async function download(id, filename, size) {\n",
              "      if (!google.colab.kernel.accessAllowed) {\n",
              "        return;\n",
              "      }\n",
              "      const div = document.createElement('div');\n",
              "      const label = document.createElement('label');\n",
              "      label.textContent = `Downloading \"${filename}\": `;\n",
              "      div.appendChild(label);\n",
              "      const progress = document.createElement('progress');\n",
              "      progress.max = size;\n",
              "      div.appendChild(progress);\n",
              "      document.body.appendChild(div);\n",
              "\n",
              "      const buffers = [];\n",
              "      let downloaded = 0;\n",
              "\n",
              "      const channel = await google.colab.kernel.comms.open(id);\n",
              "      // Send a message to notify the kernel that we're ready.\n",
              "      channel.send({})\n",
              "\n",
              "      for await (const message of channel.messages) {\n",
              "        // Send a message to notify the kernel that we're ready.\n",
              "        channel.send({})\n",
              "        if (message.buffers) {\n",
              "          for (const buffer of message.buffers) {\n",
              "            buffers.push(buffer);\n",
              "            downloaded += buffer.byteLength;\n",
              "            progress.value = downloaded;\n",
              "          }\n",
              "        }\n",
              "      }\n",
              "      const blob = new Blob(buffers, {type: 'application/binary'});\n",
              "      const a = document.createElement('a');\n",
              "      a.href = window.URL.createObjectURL(blob);\n",
              "      a.download = filename;\n",
              "      div.appendChild(a);\n",
              "      a.click();\n",
              "      div.remove();\n",
              "    }\n",
              "  "
            ],
            "text/plain": [
              "<IPython.core.display.Javascript object>"
            ]
          },
          "metadata": {}
        },
        {
          "output_type": "display_data",
          "data": {
            "application/javascript": [
              "download(\"download_64c813c3-d20b-4631-834e-deb33e1db8ff\", \"model.tflite\", 888)"
            ],
            "text/plain": [
              "<IPython.core.display.Javascript object>"
            ]
          },
          "metadata": {}
        }
      ],
      "source": [
        "try:\n",
        "  from google.colab import files\n",
        "  files.download(tflite_model_file)\n",
        "except:\n",
        "  pass"
      ]
    }
  ],
  "metadata": {
    "accelerator": "GPU",
    "colab": {
      "collapsed_sections": [],
      "name": "tflite_c01_linear_regression.ipynb",
      "toc_visible": true,
      "provenance": []
    },
    "kernelspec": {
      "display_name": "Python 3",
      "name": "python3"
    }
  },
  "nbformat": 4,
  "nbformat_minor": 0
}