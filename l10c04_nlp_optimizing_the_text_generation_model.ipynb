{
  "cells": [
    {
      "cell_type": "markdown",
      "metadata": {
        "id": "punL79CN7Ox6"
      },
      "source": [
        "##### Copyright 2020 The TensorFlow Authors."
      ]
    },
    {
      "cell_type": "code",
      "execution_count": 1,
      "metadata": {
        "cellView": "form",
        "id": "_ckMIh7O7s6D"
      },
      "outputs": [],
      "source": [
        "#@title Licensed under the Apache License, Version 2.0 (the \"License\");\n",
        "# you may not use this file except in compliance with the License.\n",
        "# You may obtain a copy of the License at\n",
        "#\n",
        "# https://www.apache.org/licenses/LICENSE-2.0\n",
        "#\n",
        "# Unless required by applicable law or agreed to in writing, software\n",
        "# distributed under the License is distributed on an \"AS IS\" BASIS,\n",
        "# WITHOUT WARRANTIES OR CONDITIONS OF ANY KIND, either express or implied.\n",
        "# See the License for the specific language governing permissions and\n",
        "# limitations under the License."
      ]
    },
    {
      "cell_type": "markdown",
      "metadata": {
        "id": "Ph5eir3Pf-3z"
      },
      "source": [
        "# Optimizing the Text Generation Model"
      ]
    },
    {
      "cell_type": "markdown",
      "metadata": {
        "id": "S5Uhzt6vVIB2"
      },
      "source": [
        "<table class=\"tfo-notebook-buttons\" align=\"left\">\n",
        "  <td>\n",
        "    <a target=\"_blank\" href=\"https://colab.research.google.com/github/tensorflow/examples/blob/master/courses/udacity_intro_to_tensorflow_for_deep_learning/l10c04_nlp_optimizing_the_text_generation_model.ipynb\"><img src=\"https://www.tensorflow.org/images/colab_logo_32px.png\" />Run in Google Colab</a>\n",
        "  </td>\n",
        "  <td>\n",
        "    <a target=\"_blank\" href=\"https://github.com/tensorflow/examples/blob/master/courses/udacity_intro_to_tensorflow_for_deep_learning/l10c04_nlp_optimizing_the_text_generation_model.ipynb\"><img src=\"https://www.tensorflow.org/images/GitHub-Mark-32px.png\" />View source on GitHub</a>\n",
        "  </td>\n",
        "</table>"
      ]
    },
    {
      "cell_type": "markdown",
      "metadata": {
        "id": "dCxhW3mtLmfb"
      },
      "source": [
        "You've already done some amazing work with generating new songs, but so far we've seen some issues with repetition and a fair amount of incoherence. By using more data and further tweaking the model, you'll be able to get improved results. We'll once again use the [Kaggle Song Lyrics Dataset](https://www.kaggle.com/mousehead/songlyrics) here."
      ]
    },
    {
      "cell_type": "markdown",
      "metadata": {
        "id": "4aHK2CYygXom"
      },
      "source": [
        "## Import TensorFlow and related functions"
      ]
    },
    {
      "cell_type": "code",
      "execution_count": 2,
      "metadata": {
        "id": "2LmLTREBf5ng"
      },
      "outputs": [],
      "source": [
        "import tensorflow as tf\n",
        "\n",
        "from tensorflow.keras.preprocessing.text import Tokenizer\n",
        "from tensorflow.keras.preprocessing.sequence import pad_sequences\n",
        "\n",
        "# Other imports for processing data\n",
        "import string\n",
        "import numpy as np\n",
        "import pandas as pd"
      ]
    },
    {
      "cell_type": "markdown",
      "metadata": {
        "id": "GmLTO_dpgge9"
      },
      "source": [
        "## Get the Dataset\n",
        "\n",
        "As noted above, we'll utilize the [Song Lyrics dataset](https://www.kaggle.com/mousehead/songlyrics) on Kaggle again."
      ]
    },
    {
      "cell_type": "code",
      "execution_count": 3,
      "metadata": {
        "id": "4Bf5FVHfganK",
        "outputId": "79161ede-888d-4cf4-e6b8-5e29afcfdded",
        "colab": {
          "base_uri": "https://localhost:8080/"
        }
      },
      "outputs": [
        {
          "output_type": "stream",
          "name": "stdout",
          "text": [
            "--2021-12-21 18:51:03--  https://drive.google.com/uc?id=1LiJFZd41ofrWoBtW-pMYsfz1w8Ny0Bj8\n",
            "Resolving drive.google.com (drive.google.com)... 173.194.197.102, 173.194.197.100, 173.194.197.139, ...\n",
            "Connecting to drive.google.com (drive.google.com)|173.194.197.102|:443... connected.\n",
            "HTTP request sent, awaiting response... 302 Moved Temporarily\n",
            "Location: https://doc-04-ak-docs.googleusercontent.com/docs/securesc/ha0ro937gcuc7l7deffksulhg5h7mbp1/4d4ll6g8kb4dtuoff28kdskn3a2i1asl/1640112600000/11118900490791463723/*/1LiJFZd41ofrWoBtW-pMYsfz1w8Ny0Bj8 [following]\n",
            "Warning: wildcards not supported in HTTP.\n",
            "--2021-12-21 18:51:05--  https://doc-04-ak-docs.googleusercontent.com/docs/securesc/ha0ro937gcuc7l7deffksulhg5h7mbp1/4d4ll6g8kb4dtuoff28kdskn3a2i1asl/1640112600000/11118900490791463723/*/1LiJFZd41ofrWoBtW-pMYsfz1w8Ny0Bj8\n",
            "Resolving doc-04-ak-docs.googleusercontent.com (doc-04-ak-docs.googleusercontent.com)... 74.125.69.132, 2607:f8b0:4001:c08::84\n",
            "Connecting to doc-04-ak-docs.googleusercontent.com (doc-04-ak-docs.googleusercontent.com)|74.125.69.132|:443... connected.\n",
            "HTTP request sent, awaiting response... 200 OK\n",
            "Length: 72436445 (69M) [text/csv]\n",
            "Saving to: ‘/tmp/songdata.csv’\n",
            "\n",
            "/tmp/songdata.csv   100%[===================>]  69.08M   122MB/s    in 0.6s    \n",
            "\n",
            "2021-12-21 18:51:06 (122 MB/s) - ‘/tmp/songdata.csv’ saved [72436445/72436445]\n",
            "\n"
          ]
        }
      ],
      "source": [
        "!wget --no-check-certificate \\\n",
        "    https://drive.google.com/uc?id=1LiJFZd41ofrWoBtW-pMYsfz1w8Ny0Bj8 \\\n",
        "    -O /tmp/songdata.csv"
      ]
    },
    {
      "cell_type": "markdown",
      "metadata": {
        "id": "Jz9x-7dWihxx"
      },
      "source": [
        "## 250 Songs\n",
        "\n",
        "Now we've seen a model trained on just a small sample of songs, and how this often leads to repetition as you get further along in trying to generate new text. Let's switch to using the 250 songs instead, and see if our output improves. This will actually be nearly 10K lines of lyrics, which should be sufficient.\n",
        "\n",
        "Note that we won't use the full dataset here as it will take up quite a bit of RAM and processing time, but you're welcome to try doing so on your own later. If interested, you'll likely want to use only some of the more common words for the Tokenizer, which will help shrink processing time and memory needed (or else you'd have an output array hundreds of thousands of words long)."
      ]
    },
    {
      "cell_type": "markdown",
      "metadata": {
        "id": "nWbMN_19jfRT"
      },
      "source": [
        "### Preprocessing"
      ]
    },
    {
      "cell_type": "code",
      "execution_count": 4,
      "metadata": {
        "id": "LRmPPJegovBe"
      },
      "outputs": [],
      "source": [
        "def tokenize_corpus(corpus, num_words=-1):\n",
        "  # Fit a Tokenizer on the corpus\n",
        "  if num_words > -1:\n",
        "    tokenizer = Tokenizer(num_words=num_words)\n",
        "  else:\n",
        "    tokenizer = Tokenizer()\n",
        "  tokenizer.fit_on_texts(corpus)\n",
        "  return tokenizer\n",
        "\n",
        "def create_lyrics_corpus(dataset, field):\n",
        "  # Remove all other punctuation\n",
        "  dataset[field] = dataset[field].str.replace('[{}]'.format(string.punctuation), '')\n",
        "  # Make it lowercase\n",
        "  dataset[field] = dataset[field].str.lower()\n",
        "  # Make it one long string to split by line\n",
        "  lyrics = dataset[field].str.cat()\n",
        "  corpus = lyrics.split('\\n')\n",
        "  # Remove any trailing whitespace\n",
        "  for l in range(len(corpus)):\n",
        "    corpus[l] = corpus[l].rstrip()\n",
        "  # Remove any empty lines\n",
        "  corpus = [l for l in corpus if l != '']\n",
        "\n",
        "  return corpus"
      ]
    },
    {
      "cell_type": "code",
      "execution_count": 5,
      "metadata": {
        "id": "kIGedF3XjHj4",
        "outputId": "f51fe842-b3ea-4323-c8e1-7313981b0b09",
        "colab": {
          "base_uri": "https://localhost:8080/"
        }
      },
      "outputs": [
        {
          "output_type": "stream",
          "name": "stdout",
          "text": [
            "2000\n"
          ]
        }
      ],
      "source": [
        "def tokenize_corpus(corpus, num_words=-1):\n",
        "  # Fit a Tokenizer on the corpus\n",
        "  if num_words > -1:\n",
        "    tokenizer = Tokenizer(num_words=num_words)\n",
        "  else:\n",
        "    tokenizer = Tokenizer()\n",
        "  tokenizer.fit_on_texts(corpus)\n",
        "  return tokenizer\n",
        "\n",
        "# Read the dataset from csv - this time with 250 songs\n",
        "dataset = pd.read_csv('/tmp/songdata.csv', dtype=str)[:250]\n",
        "# Create the corpus using the 'text' column containing lyrics\n",
        "corpus = create_lyrics_corpus(dataset, 'text')\n",
        "# Tokenize the corpus\n",
        "tokenizer = tokenize_corpus(corpus, num_words=2000)\n",
        "total_words = tokenizer.num_words\n",
        "\n",
        "# There should be a lot more words now\n",
        "print(total_words)"
      ]
    },
    {
      "cell_type": "markdown",
      "metadata": {
        "id": "quoDmw_FkNBA"
      },
      "source": [
        "### Create Sequences and Labels"
      ]
    },
    {
      "cell_type": "code",
      "execution_count": 6,
      "metadata": {
        "id": "kkLAf3HmkPSo"
      },
      "outputs": [],
      "source": [
        "sequences = []\n",
        "for line in corpus:\n",
        "\ttoken_list = tokenizer.texts_to_sequences([line])[0]\n",
        "\tfor i in range(1, len(token_list)):\n",
        "\t\tn_gram_sequence = token_list[:i+1]\n",
        "\t\tsequences.append(n_gram_sequence)\n",
        "\n",
        "# Pad sequences for equal input length \n",
        "max_sequence_len = max([len(seq) for seq in sequences])\n",
        "sequences = np.array(pad_sequences(sequences, maxlen=max_sequence_len, padding='pre'))\n",
        "\n",
        "# Split sequences between the \"input\" sequence and \"output\" predicted word\n",
        "input_sequences, labels = sequences[:,:-1], sequences[:,-1]\n",
        "# One-hot encode the labels\n",
        "one_hot_labels = tf.keras.utils.to_categorical(labels, num_classes=total_words)"
      ]
    },
    {
      "cell_type": "markdown",
      "metadata": {
        "id": "cECbqT-blMk-"
      },
      "source": [
        "### Train a (Better) Text Generation Model\n",
        "\n",
        "With more data, we'll cut off after 100 epochs to avoid keeping you here all day. You'll also want to change your runtime type to GPU if you haven't already (you'll need to re-run the above cells if you change runtimes)."
      ]
    },
    {
      "cell_type": "code",
      "execution_count": 7,
      "metadata": {
        "id": "7nHOp6uWlP_P",
        "outputId": "af2b4009-e15c-4615-dd4c-89b4014fd667",
        "colab": {
          "base_uri": "https://localhost:8080/"
        }
      },
      "outputs": [
        {
          "output_type": "stream",
          "name": "stdout",
          "text": [
            "Epoch 1/100\n",
            "1480/1480 [==============================] - 35s 15ms/step - loss: 5.9801 - accuracy: 0.0465\n",
            "Epoch 2/100\n",
            "1480/1480 [==============================] - 21s 14ms/step - loss: 5.6683 - accuracy: 0.0515\n",
            "Epoch 3/100\n",
            "1480/1480 [==============================] - 21s 14ms/step - loss: 5.4765 - accuracy: 0.0684\n",
            "Epoch 4/100\n",
            "1480/1480 [==============================] - 21s 14ms/step - loss: 5.3058 - accuracy: 0.0932\n",
            "Epoch 5/100\n",
            "1480/1480 [==============================] - 21s 14ms/step - loss: 5.1513 - accuracy: 0.1167\n",
            "Epoch 6/100\n",
            "1480/1480 [==============================] - 21s 14ms/step - loss: 4.9909 - accuracy: 0.1293\n",
            "Epoch 7/100\n",
            "1480/1480 [==============================] - 22s 15ms/step - loss: 4.8141 - accuracy: 0.1459\n",
            "Epoch 8/100\n",
            "1480/1480 [==============================] - 21s 14ms/step - loss: 4.6599 - accuracy: 0.1619\n",
            "Epoch 9/100\n",
            "1480/1480 [==============================] - 21s 14ms/step - loss: 4.5205 - accuracy: 0.1791\n",
            "Epoch 10/100\n",
            "1480/1480 [==============================] - 21s 14ms/step - loss: 4.3936 - accuracy: 0.1930\n",
            "Epoch 11/100\n",
            "1480/1480 [==============================] - 21s 14ms/step - loss: 4.2832 - accuracy: 0.2046\n",
            "Epoch 12/100\n",
            "1480/1480 [==============================] - 21s 14ms/step - loss: 4.1823 - accuracy: 0.2168\n",
            "Epoch 13/100\n",
            "1480/1480 [==============================] - 21s 14ms/step - loss: 4.0899 - accuracy: 0.2288\n",
            "Epoch 14/100\n",
            "1480/1480 [==============================] - 21s 14ms/step - loss: 4.0100 - accuracy: 0.2382\n",
            "Epoch 15/100\n",
            "1480/1480 [==============================] - 21s 14ms/step - loss: 3.9333 - accuracy: 0.2483\n",
            "Epoch 16/100\n",
            "1480/1480 [==============================] - 21s 14ms/step - loss: 3.8620 - accuracy: 0.2572\n",
            "Epoch 17/100\n",
            "1480/1480 [==============================] - 21s 14ms/step - loss: 3.7972 - accuracy: 0.2670\n",
            "Epoch 18/100\n",
            "1480/1480 [==============================] - 21s 14ms/step - loss: 3.7356 - accuracy: 0.2737\n",
            "Epoch 19/100\n",
            "1480/1480 [==============================] - 21s 14ms/step - loss: 3.6779 - accuracy: 0.2829\n",
            "Epoch 20/100\n",
            "1480/1480 [==============================] - 21s 14ms/step - loss: 3.6226 - accuracy: 0.2911\n",
            "Epoch 21/100\n",
            "1480/1480 [==============================] - 21s 14ms/step - loss: 3.5721 - accuracy: 0.2979\n",
            "Epoch 22/100\n",
            "1480/1480 [==============================] - 21s 14ms/step - loss: 3.5271 - accuracy: 0.3048\n",
            "Epoch 23/100\n",
            "1480/1480 [==============================] - 21s 14ms/step - loss: 3.4794 - accuracy: 0.3116\n",
            "Epoch 24/100\n",
            "1480/1480 [==============================] - 21s 14ms/step - loss: 3.4329 - accuracy: 0.3191\n",
            "Epoch 25/100\n",
            "1480/1480 [==============================] - 21s 14ms/step - loss: 3.3937 - accuracy: 0.3235\n",
            "Epoch 26/100\n",
            "1480/1480 [==============================] - 21s 14ms/step - loss: 3.3511 - accuracy: 0.3284\n",
            "Epoch 27/100\n",
            "1480/1480 [==============================] - 21s 14ms/step - loss: 3.3155 - accuracy: 0.3345\n",
            "Epoch 28/100\n",
            "1480/1480 [==============================] - 21s 14ms/step - loss: 3.2768 - accuracy: 0.3395\n",
            "Epoch 29/100\n",
            "1480/1480 [==============================] - 21s 14ms/step - loss: 3.2422 - accuracy: 0.3454\n",
            "Epoch 30/100\n",
            "1480/1480 [==============================] - 21s 14ms/step - loss: 3.2110 - accuracy: 0.3502\n",
            "Epoch 31/100\n",
            "1480/1480 [==============================] - 21s 14ms/step - loss: 3.1831 - accuracy: 0.3528\n",
            "Epoch 32/100\n",
            "1480/1480 [==============================] - 20s 14ms/step - loss: 3.1467 - accuracy: 0.3593\n",
            "Epoch 33/100\n",
            "1480/1480 [==============================] - 21s 14ms/step - loss: 3.1233 - accuracy: 0.3636\n",
            "Epoch 34/100\n",
            "1480/1480 [==============================] - 21s 14ms/step - loss: 3.0939 - accuracy: 0.3679\n",
            "Epoch 35/100\n",
            "1480/1480 [==============================] - 20s 14ms/step - loss: 3.0667 - accuracy: 0.3726\n",
            "Epoch 36/100\n",
            "1480/1480 [==============================] - 21s 14ms/step - loss: 3.0396 - accuracy: 0.3765\n",
            "Epoch 37/100\n",
            "1480/1480 [==============================] - 21s 14ms/step - loss: 3.0279 - accuracy: 0.3775\n",
            "Epoch 38/100\n",
            "1480/1480 [==============================] - 21s 14ms/step - loss: 2.9924 - accuracy: 0.3840\n",
            "Epoch 39/100\n",
            "1480/1480 [==============================] - 21s 14ms/step - loss: 2.9733 - accuracy: 0.3872\n",
            "Epoch 40/100\n",
            "1480/1480 [==============================] - 21s 14ms/step - loss: 2.9439 - accuracy: 0.3921\n",
            "Epoch 41/100\n",
            "1480/1480 [==============================] - 21s 14ms/step - loss: 2.9247 - accuracy: 0.3938\n",
            "Epoch 42/100\n",
            "1480/1480 [==============================] - 21s 15ms/step - loss: 2.9096 - accuracy: 0.3964\n",
            "Epoch 43/100\n",
            "1480/1480 [==============================] - 21s 14ms/step - loss: 2.8871 - accuracy: 0.4002\n",
            "Epoch 44/100\n",
            "1480/1480 [==============================] - 21s 14ms/step - loss: 2.8674 - accuracy: 0.4032\n",
            "Epoch 45/100\n",
            "1480/1480 [==============================] - 21s 14ms/step - loss: 2.8515 - accuracy: 0.4074\n",
            "Epoch 46/100\n",
            "1480/1480 [==============================] - 21s 14ms/step - loss: 2.8316 - accuracy: 0.4096\n",
            "Epoch 47/100\n",
            "1480/1480 [==============================] - 21s 14ms/step - loss: 2.8063 - accuracy: 0.4151\n",
            "Epoch 48/100\n",
            "1480/1480 [==============================] - 20s 14ms/step - loss: 2.7952 - accuracy: 0.4168\n",
            "Epoch 49/100\n",
            "1480/1480 [==============================] - 20s 14ms/step - loss: 2.7768 - accuracy: 0.4198\n",
            "Epoch 50/100\n",
            "1480/1480 [==============================] - 21s 14ms/step - loss: 2.7676 - accuracy: 0.4207\n",
            "Epoch 51/100\n",
            "1480/1480 [==============================] - 21s 14ms/step - loss: 2.7525 - accuracy: 0.4243\n",
            "Epoch 52/100\n",
            "1480/1480 [==============================] - 21s 14ms/step - loss: 2.7335 - accuracy: 0.4257\n",
            "Epoch 53/100\n",
            "1480/1480 [==============================] - 20s 14ms/step - loss: 2.7162 - accuracy: 0.4295\n",
            "Epoch 54/100\n",
            "1480/1480 [==============================] - 21s 14ms/step - loss: 2.6993 - accuracy: 0.4345\n",
            "Epoch 55/100\n",
            "1480/1480 [==============================] - 21s 14ms/step - loss: 2.6914 - accuracy: 0.4343\n",
            "Epoch 56/100\n",
            "1480/1480 [==============================] - 21s 14ms/step - loss: 2.6793 - accuracy: 0.4371\n",
            "Epoch 57/100\n",
            "1480/1480 [==============================] - 21s 14ms/step - loss: 2.6687 - accuracy: 0.4388\n",
            "Epoch 58/100\n",
            "1480/1480 [==============================] - 21s 14ms/step - loss: 2.6456 - accuracy: 0.4438\n",
            "Epoch 59/100\n",
            "1480/1480 [==============================] - 21s 14ms/step - loss: 2.6741 - accuracy: 0.4360\n",
            "Epoch 60/100\n",
            "1480/1480 [==============================] - 21s 14ms/step - loss: 2.6204 - accuracy: 0.4462\n",
            "Epoch 61/100\n",
            "1480/1480 [==============================] - 21s 14ms/step - loss: 2.6074 - accuracy: 0.4477\n",
            "Epoch 62/100\n",
            "1480/1480 [==============================] - 21s 14ms/step - loss: 2.5951 - accuracy: 0.4503\n",
            "Epoch 63/100\n",
            "1480/1480 [==============================] - 21s 14ms/step - loss: 2.5877 - accuracy: 0.4520\n",
            "Epoch 64/100\n",
            "1480/1480 [==============================] - 21s 14ms/step - loss: 2.5773 - accuracy: 0.4543\n",
            "Epoch 65/100\n",
            "1480/1480 [==============================] - 21s 14ms/step - loss: 2.5597 - accuracy: 0.4574\n",
            "Epoch 66/100\n",
            "1480/1480 [==============================] - 21s 14ms/step - loss: 2.5723 - accuracy: 0.4563\n",
            "Epoch 67/100\n",
            "1480/1480 [==============================] - 21s 14ms/step - loss: 2.5493 - accuracy: 0.4586\n",
            "Epoch 68/100\n",
            "1480/1480 [==============================] - 20s 14ms/step - loss: 2.5363 - accuracy: 0.4608\n",
            "Epoch 69/100\n",
            "1480/1480 [==============================] - 21s 14ms/step - loss: 2.5195 - accuracy: 0.4650\n",
            "Epoch 70/100\n",
            "1480/1480 [==============================] - 21s 14ms/step - loss: 2.5098 - accuracy: 0.4650\n",
            "Epoch 71/100\n",
            "1480/1480 [==============================] - 21s 14ms/step - loss: 2.4988 - accuracy: 0.4683\n",
            "Epoch 72/100\n",
            "1480/1480 [==============================] - 21s 14ms/step - loss: 2.4908 - accuracy: 0.4684\n",
            "Epoch 73/100\n",
            "1480/1480 [==============================] - 21s 14ms/step - loss: 2.4864 - accuracy: 0.4711\n",
            "Epoch 74/100\n",
            "1480/1480 [==============================] - 21s 14ms/step - loss: 2.5171 - accuracy: 0.4632\n",
            "Epoch 75/100\n",
            "1480/1480 [==============================] - 21s 14ms/step - loss: 2.4732 - accuracy: 0.4716\n",
            "Epoch 76/100\n",
            "1480/1480 [==============================] - 21s 14ms/step - loss: 2.4583 - accuracy: 0.4748\n",
            "Epoch 77/100\n",
            "1480/1480 [==============================] - 21s 14ms/step - loss: 2.4474 - accuracy: 0.4766\n",
            "Epoch 78/100\n",
            "1480/1480 [==============================] - 21s 14ms/step - loss: 2.4370 - accuracy: 0.4780\n",
            "Epoch 79/100\n",
            "1480/1480 [==============================] - 20s 14ms/step - loss: 2.4351 - accuracy: 0.4778\n",
            "Epoch 80/100\n",
            "1480/1480 [==============================] - 21s 14ms/step - loss: 2.4282 - accuracy: 0.4793\n",
            "Epoch 81/100\n",
            "1480/1480 [==============================] - 21s 14ms/step - loss: 2.4136 - accuracy: 0.4820\n",
            "Epoch 82/100\n",
            "1480/1480 [==============================] - 21s 14ms/step - loss: 2.4093 - accuracy: 0.4836\n",
            "Epoch 83/100\n",
            "1480/1480 [==============================] - 21s 14ms/step - loss: 2.4063 - accuracy: 0.4829\n",
            "Epoch 84/100\n",
            "1480/1480 [==============================] - 21s 14ms/step - loss: 2.3990 - accuracy: 0.4866\n",
            "Epoch 85/100\n",
            "1480/1480 [==============================] - 21s 14ms/step - loss: 2.3911 - accuracy: 0.4851\n",
            "Epoch 86/100\n",
            "1480/1480 [==============================] - 21s 14ms/step - loss: 2.3777 - accuracy: 0.4909\n",
            "Epoch 87/100\n",
            "1480/1480 [==============================] - 21s 14ms/step - loss: 2.3708 - accuracy: 0.4897\n",
            "Epoch 88/100\n",
            "1480/1480 [==============================] - 21s 14ms/step - loss: 2.3665 - accuracy: 0.4890\n",
            "Epoch 89/100\n",
            "1480/1480 [==============================] - 21s 14ms/step - loss: 2.3518 - accuracy: 0.4936\n",
            "Epoch 90/100\n",
            "1480/1480 [==============================] - 21s 14ms/step - loss: 2.3403 - accuracy: 0.4953\n",
            "Epoch 91/100\n",
            "1480/1480 [==============================] - 21s 14ms/step - loss: 2.3481 - accuracy: 0.4924\n",
            "Epoch 92/100\n",
            "1480/1480 [==============================] - 21s 14ms/step - loss: 2.3336 - accuracy: 0.4958\n",
            "Epoch 93/100\n",
            "1480/1480 [==============================] - 21s 14ms/step - loss: 2.3306 - accuracy: 0.4970\n",
            "Epoch 94/100\n",
            "1480/1480 [==============================] - 21s 14ms/step - loss: 2.3256 - accuracy: 0.4983\n",
            "Epoch 95/100\n",
            "1480/1480 [==============================] - 21s 14ms/step - loss: 2.3192 - accuracy: 0.4990\n",
            "Epoch 96/100\n",
            "1480/1480 [==============================] - 21s 14ms/step - loss: 2.3113 - accuracy: 0.5006\n",
            "Epoch 97/100\n",
            "1480/1480 [==============================] - 21s 14ms/step - loss: 2.3018 - accuracy: 0.5021\n",
            "Epoch 98/100\n",
            "1480/1480 [==============================] - 21s 14ms/step - loss: 2.2944 - accuracy: 0.5029\n",
            "Epoch 99/100\n",
            "1480/1480 [==============================] - 20s 14ms/step - loss: 2.2952 - accuracy: 0.5026\n",
            "Epoch 100/100\n",
            "1480/1480 [==============================] - 20s 14ms/step - loss: 2.2833 - accuracy: 0.5052\n"
          ]
        }
      ],
      "source": [
        "from tensorflow.keras.models import Sequential\n",
        "from tensorflow.keras.layers import Embedding, LSTM, Dense, Bidirectional\n",
        "\n",
        "model = Sequential()\n",
        "model.add(Embedding(total_words, 64, input_length=max_sequence_len-1))\n",
        "model.add(Bidirectional(LSTM(20)))\n",
        "model.add(Dense(total_words, activation='softmax'))\n",
        "model.compile(loss='categorical_crossentropy', optimizer='adam', metrics=['accuracy'])\n",
        "history = model.fit(input_sequences, one_hot_labels, epochs=100, verbose=1)"
      ]
    },
    {
      "cell_type": "markdown",
      "metadata": {
        "id": "MgvIz20nlQcq"
      },
      "source": [
        "### View the Training Graph"
      ]
    },
    {
      "cell_type": "code",
      "execution_count": 8,
      "metadata": {
        "id": "rOqmmarvlSLh",
        "outputId": "7258e191-9c46-4f43-e470-b775cda69d32",
        "colab": {
          "base_uri": "https://localhost:8080/",
          "height": 279
        }
      },
      "outputs": [
        {
          "output_type": "display_data",
          "data": {
            "image/png": "[encoded data removed]",
            "text/plain": [
              "<Figure size 432x288 with 1 Axes>"
            ]
          },
          "metadata": {
            "needs_background": "light"
          }
        }
      ],
      "source": [
        "import matplotlib.pyplot as plt\n",
        "\n",
        "def plot_graphs(history, string):\n",
        "  plt.plot(history.history[string])\n",
        "  plt.xlabel(\"Epochs\")\n",
        "  plt.ylabel(string)\n",
        "  plt.show()\n",
        "\n",
        "plot_graphs(history, 'accuracy')"
      ]
    },
    {
      "cell_type": "markdown",
      "metadata": {
        "id": "ISLZZGlQlSxh"
      },
      "source": [
        "### Generate better lyrics!\n",
        "\n",
        "This time around, we should be able to get a more interesting output with less repetition."
      ]
    },
    {
      "cell_type": "code",
      "execution_count": 9,
      "metadata": {
        "id": "P96oVMk3lU7y",
        "outputId": "8d8f82f0-a955-4a85-f466-57979738d36e",
        "colab": {
          "base_uri": "https://localhost:8080/"
        }
      },
      "outputs": [
        {
          "output_type": "stream",
          "name": "stdout",
          "text": [
            "im feeling chills me and bobby and bobbys brother joe for a playing ground where we came to be thousand gritty darling heads heads long little fiddle with hours and unreal fine december my back together searching cause knowing movin tall movin on cinderella to go near the teacher he fire it up my heal god distant attraction me all black and the phone back past our world patience fault rather resist smiling door ha ha ha kissed mm dumb lot tear family resist broken stoppin cars fat cars temperature headyeah worlds citys misery lifetime proteccion game forgot taken choice disillusions twist scenes\n"
          ]
        }
      ],
      "source": [
        "seed_text = \"im feeling chills\"\n",
        "next_words = 100\n",
        "  \n",
        "for _ in range(next_words):\n",
        "\ttoken_list = tokenizer.texts_to_sequences([seed_text])[0]\n",
        "\ttoken_list = pad_sequences([token_list], maxlen=max_sequence_len-1, padding='pre')\n",
        "\tpredicted = np.argmax(model.predict(token_list), axis=-1)\n",
        "\toutput_word = \"\"\n",
        "\tfor word, index in tokenizer.word_index.items():\n",
        "\t\tif index == predicted:\n",
        "\t\t\toutput_word = word\n",
        "\t\t\tbreak\n",
        "\tseed_text += \" \" + output_word\n",
        "print(seed_text)"
      ]
    },
    {
      "cell_type": "markdown",
      "metadata": {
        "id": "upgJKV8_oRU9"
      },
      "source": [
        "### Varying the Possible Outputs\n",
        "\n",
        "In running the above, you may notice that the same seed text will generate similar outputs. This is because the code is currently always choosing the top predicted class as the next word. What if you wanted more variance in the output? \n",
        "\n",
        "Switching from `model.predict_classes` to `model.predict_proba` will get us all of the class probabilities. We can combine this with `np.random.choice` to select a given predicted output based on a probability, thereby giving a bit more randomness to our outputs."
      ]
    },
    {
      "cell_type": "code",
      "execution_count": 10,
      "metadata": {
        "id": "lZe9gaJeoGVP",
        "outputId": "af0ef444-4ad0-4874-ea6d-a8051d05abe6",
        "colab": {
          "base_uri": "https://localhost:8080/"
        }
      },
      "outputs": [
        {
          "output_type": "stream",
          "name": "stdout",
          "text": [
            "7\n"
          ]
        }
      ],
      "source": [
        "# Test the method with just the first word after the seed text\n",
        "seed_text = \"im feeling chills\"\n",
        "next_words = 100\n",
        "  \n",
        "token_list = tokenizer.texts_to_sequences([seed_text])[0]\n",
        "token_list = pad_sequences([token_list], maxlen=max_sequence_len-1, padding='pre')\n",
        "predicted_probs = model.predict(token_list)[0]\n",
        "predicted = np.random.choice([x for x in range(len(predicted_probs))], \n",
        "                             p=predicted_probs)\n",
        "# Running this cell multiple times should get you some variance in output\n",
        "print(predicted)"
      ]
    },
    {
      "cell_type": "code",
      "execution_count": 11,
      "metadata": {
        "id": "ee7WKgRGrJy1",
        "outputId": "35d8aa31-f3e8-4cda-8a71-d75bf8e37a2e",
        "colab": {
          "base_uri": "https://localhost:8080/"
        }
      },
      "outputs": [
        {
          "output_type": "stream",
          "name": "stdout",
          "text": [
            "im feeling chills all alone then i laugh is so down the west but still the deep near find little hope soft and making another day thats rough out light needs fun tambourine girls tear family climbing memory forgot memory beg jungle musics depend neon crazy lay exciting up seventeen family monkey given fool fool shame on done to loved you go in girls to the terror melody left that night his diggin car glory broken of our back wild im told in all he town he did gone away on down there i throw a night yeah i believe yeah see you\n"
          ]
        }
      ],
      "source": [
        "# Use this process for the full output generation\n",
        "seed_text = \"im feeling chills\"\n",
        "next_words = 100\n",
        "  \n",
        "for _ in range(next_words):\n",
        "  token_list = tokenizer.texts_to_sequences([seed_text])[0]\n",
        "  token_list = pad_sequences([token_list], maxlen=max_sequence_len-1, padding='pre')\n",
        "  predicted_probs = model.predict(token_list)[0]\n",
        "  predicted = np.random.choice([x for x in range(len(predicted_probs))],\n",
        "                               p=predicted_probs)\n",
        "  output_word = \"\"\n",
        "  for word, index in tokenizer.word_index.items():\n",
        "    if index == predicted:\n",
        "      output_word = word\n",
        "      break\n",
        "  seed_text += \" \" + output_word\n",
        "print(seed_text)"
      ]
    }
  ],
  "metadata": {
    "accelerator": "GPU",
    "colab": {
      "collapsed_sections": [],
      "name": "l10c04_nlp_optimizing_the_text_generation_model.ipynb",
      "toc_visible": true,
      "provenance": []
    },
    "kernelspec": {
      "display_name": "Python 3",
      "name": "python3"
    }
  },
  "nbformat": 4,
  "nbformat_minor": 0
}